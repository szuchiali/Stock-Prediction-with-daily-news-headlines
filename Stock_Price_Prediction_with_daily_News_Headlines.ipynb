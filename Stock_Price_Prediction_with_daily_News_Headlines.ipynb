{
  "nbformat": 4,
  "nbformat_minor": 0,
  "metadata": {
    "colab": {
      "name": "Stock Price Prediction with daily News Headlines.ipynb",
      "provenance": [],
      "collapsed_sections": [],
      "toc_visible": true,
      "include_colab_link": true
    },
    "kernelspec": {
      "name": "python3",
      "display_name": "Python 3"
    },
    "language_info": {
      "name": "python"
    }
  },
  "cells": [
    {
      "cell_type": "markdown",
      "metadata": {
        "id": "view-in-github",
        "colab_type": "text"
      },
      "source": [
        "<a href=\"https://colab.research.google.com/github/szuchiali/Stock-Prediction-with-daily-news-headlines/blob/main/Stock_Price_Prediction_with_daily_News_Headlines.ipynb\" target=\"_parent\"><img src=\"https://colab.research.google.com/assets/colab-badge.svg\" alt=\"Open In Colab\"/></a>"
      ]
    },
    {
      "cell_type": "code",
      "metadata": {
        "colab": {
          "base_uri": "https://localhost:8080/"
        },
        "id": "xEuC0fozKBn4",
        "outputId": "41361f78-5ccf-4783-b87b-f7ce49e6255a"
      },
      "source": [
        "from google.colab import drive\n",
        "drive.mount('/content/drive')"
      ],
      "execution_count": 1,
      "outputs": [
        {
          "output_type": "stream",
          "text": [
            "Mounted at /content/drive\n"
          ],
          "name": "stdout"
        }
      ]
    },
    {
      "cell_type": "code",
      "metadata": {
        "id": "uqanM9B8KC9r"
      },
      "source": [
        "!pip install torchtext==0.4.0\n",
        "\n",
        "import numpy as np \n",
        "import pandas as pd\n",
        "import re\n",
        "import os\n",
        "import sys\n",
        "import math\n",
        "import nltk\n",
        "import torch\n",
        "import random\n",
        "import string\n",
        "import torch.nn as nn\n",
        "import matplotlib.pyplot as plt\n",
        "\n",
        "from scipy.sparse import csr_matrix\n",
        "\n",
        "from sklearn.feature_extraction.text import CountVectorizer\n",
        "from sklearn.ensemble import RandomForestClassifier\n",
        "from sklearn.metrics import classification_report, confusion_matrix, accuracy_score\n",
        "from sklearn.feature_extraction.text import TfidfVectorizer\n",
        "from sklearn.naive_bayes import MultinomialNB\n",
        "from sklearn.model_selection import train_test_split\n",
        "\n",
        "from torchtext import data, datasets\n",
        "from torchtext.vocab import Vectors\n",
        "from torch.nn import functional as F\n",
        "from torch.autograd import Variable\n",
        "\n",
        "nltk.download('punkt')\n",
        "\n",
        "device = torch.device('cuda' if torch.cuda.is_available() else 'cpu')"
      ],
      "execution_count": null,
      "outputs": []
    },
    {
      "cell_type": "markdown",
      "metadata": {
        "id": "RfHueKb1Psq4"
      },
      "source": [
        "#Machine Learning"
      ]
    },
    {
      "cell_type": "code",
      "metadata": {
        "id": "kO3yn2SmKNb4"
      },
      "source": [
        "df = pd.read_csv('/content/drive/MyDrive/Combined_News_DJIA.csv')"
      ],
      "execution_count": null,
      "outputs": []
    },
    {
      "cell_type": "code",
      "metadata": {
        "colab": {
          "base_uri": "https://localhost:8080/"
        },
        "id": "6v4prNtQQPSe",
        "outputId": "0439463b-f207-4c7e-b485-c92c1f64a2df"
      },
      "source": [
        "train = df[df['Date'] < '20150101']\n",
        "test = df[df['Date'] > '20141231']\n",
        "print(train.shape)\n",
        "print(test.shape)"
      ],
      "execution_count": null,
      "outputs": [
        {
          "output_type": "stream",
          "text": [
            "(1863, 27)\n",
            "(378, 27)\n"
          ],
          "name": "stdout"
        }
      ]
    },
    {
      "cell_type": "code",
      "metadata": {
        "id": "SCouHsu_KXGE"
      },
      "source": [
        "#extract only the top 25 titles\n",
        "dataset = train.iloc[:, 2:27]\n",
        "# replace characters except alphabet with blank \n",
        "dataset.replace(\"[^a-zA-Z]\", \" \", regex=True, inplace=True)"
      ],
      "execution_count": null,
      "outputs": []
    },
    {
      "cell_type": "code",
      "metadata": {
        "colab": {
          "base_uri": "https://localhost:8080/",
          "height": 683
        },
        "id": "7h1mNpSvK4a-",
        "outputId": "8b3fc75f-3bd0-4d4a-8a35-d0564786ea13"
      },
      "source": [
        "#convert all headlines to lower cases\n",
        "dataset.columns = [str(i) for i in [j for j in range(25)]]\n",
        "for i in dataset.columns:\n",
        "    dataset[i] = dataset[i].str.lower()\n",
        "dataset.head(5)"
      ],
      "execution_count": null,
      "outputs": [
        {
          "output_type": "execute_result",
          "data": {
            "text/html": [
              "<div>\n",
              "<style scoped>\n",
              "    .dataframe tbody tr th:only-of-type {\n",
              "        vertical-align: middle;\n",
              "    }\n",
              "\n",
              "    .dataframe tbody tr th {\n",
              "        vertical-align: top;\n",
              "    }\n",
              "\n",
              "    .dataframe thead th {\n",
              "        text-align: right;\n",
              "    }\n",
              "</style>\n",
              "<table border=\"1\" class=\"dataframe\">\n",
              "  <thead>\n",
              "    <tr style=\"text-align: right;\">\n",
              "      <th></th>\n",
              "      <th>0</th>\n",
              "      <th>1</th>\n",
              "      <th>2</th>\n",
              "      <th>3</th>\n",
              "      <th>4</th>\n",
              "      <th>5</th>\n",
              "      <th>6</th>\n",
              "      <th>7</th>\n",
              "      <th>8</th>\n",
              "      <th>9</th>\n",
              "      <th>10</th>\n",
              "      <th>11</th>\n",
              "      <th>12</th>\n",
              "      <th>13</th>\n",
              "      <th>14</th>\n",
              "      <th>15</th>\n",
              "      <th>16</th>\n",
              "      <th>17</th>\n",
              "      <th>18</th>\n",
              "      <th>19</th>\n",
              "      <th>20</th>\n",
              "      <th>21</th>\n",
              "      <th>22</th>\n",
              "      <th>23</th>\n",
              "      <th>24</th>\n",
              "    </tr>\n",
              "  </thead>\n",
              "  <tbody>\n",
              "    <tr>\n",
              "      <th>0</th>\n",
              "      <td>b georgia  downs two russian warplanes  as cou...</td>\n",
              "      <td>b breaking  musharraf to be impeached</td>\n",
              "      <td>b russia today  columns of troops roll into so...</td>\n",
              "      <td>b russian tanks are moving towards the capital...</td>\n",
              "      <td>b afghan children raped with  impunity   u n  ...</td>\n",
              "      <td>b     russian tanks have entered south ossetia...</td>\n",
              "      <td>b breaking  georgia invades south ossetia  rus...</td>\n",
              "      <td>b the  enemy combatent  trials are nothing but...</td>\n",
              "      <td>b georgian troops retreat from s  osettain cap...</td>\n",
              "      <td>b did the u s  prep georgia for war with russia</td>\n",
              "      <td>b rice gives green light for israel to attack ...</td>\n",
              "      <td>b announcing class action lawsuit on behalf of...</td>\n",
              "      <td>b so   russia and georgia are at war and the n...</td>\n",
              "      <td>b china tells bush to stay out of other countr...</td>\n",
              "      <td>b did world war iii start today</td>\n",
              "      <td>b georgia invades south ossetia   if russia ge...</td>\n",
              "      <td>b al qaeda faces islamist backlash</td>\n",
              "      <td>b condoleezza rice   the us would not act to p...</td>\n",
              "      <td>b this is a busy day   the european union has ...</td>\n",
              "      <td>b georgia will withdraw       soldiers from ir...</td>\n",
              "      <td>b why the pentagon thinks attacking iran is a ...</td>\n",
              "      <td>b caucasus in crisis  georgia invades south os...</td>\n",
              "      <td>b indian shoe manufactory    and again in a se...</td>\n",
              "      <td>b visitors suffering from mental illnesses ban...</td>\n",
              "      <td>b no help for mexico s kidnapping surge</td>\n",
              "    </tr>\n",
              "    <tr>\n",
              "      <th>1</th>\n",
              "      <td>b why wont america and nato help us  if they w...</td>\n",
              "      <td>b bush puts foot down on georgian conflict</td>\n",
              "      <td>b jewish georgian minister  thanks to israeli ...</td>\n",
              "      <td>b georgian army flees in disarray as russians ...</td>\n",
              "      <td>b olympic opening ceremony fireworks  faked</td>\n",
              "      <td>b what were the mossad with fraudulent new zea...</td>\n",
              "      <td>b russia angered by israeli military sale to g...</td>\n",
              "      <td>b an american citizen living in s ossetia blam...</td>\n",
              "      <td>b welcome to world war iv  now in high definit...</td>\n",
              "      <td>b georgia s move  a mistake of monumental prop...</td>\n",
              "      <td>b russia presses deeper into georgia  u s  say...</td>\n",
              "      <td>b abhinav bindra wins first ever individual ol...</td>\n",
              "      <td>b  u s  ship heads for arctic to define territ...</td>\n",
              "      <td>b drivers in a jerusalem taxi station threaten...</td>\n",
              "      <td>b the french team is stunned by phelps and the...</td>\n",
              "      <td>b israel and the us behind the georgian aggres...</td>\n",
              "      <td>b  do not believe tv  neither russian nor geor...</td>\n",
              "      <td>b riots are still going on in montreal  canada...</td>\n",
              "      <td>b china to overtake us as largest manufacturer</td>\n",
              "      <td>b war in south ossetia  pics</td>\n",
              "      <td>b israeli physicians group condemns state tort...</td>\n",
              "      <td>b  russia has just beaten the united states ov...</td>\n",
              "      <td>b perhaps  the  question about the georgia   r...</td>\n",
              "      <td>b russia is so much better at war</td>\n",
              "      <td>b so this is what it s come to  trading sex fo...</td>\n",
              "    </tr>\n",
              "    <tr>\n",
              "      <th>2</th>\n",
              "      <td>b remember that adorable   year old who sang a...</td>\n",
              "      <td>b russia  ends georgia operation</td>\n",
              "      <td>b  if we had no sexual harassment we would hav...</td>\n",
              "      <td>b al qa eda is losing support in iraq because ...</td>\n",
              "      <td>b ceasefire in georgia  putin outmaneuvers the...</td>\n",
              "      <td>b why microsoft and intel tried to kill the xo...</td>\n",
              "      <td>b stratfor  the russo georgian war and the bal...</td>\n",
              "      <td>b i m trying to get a sense of this whole geor...</td>\n",
              "      <td>b the us military was surprised by the timing ...</td>\n",
              "      <td>b u s  beats war drum as iran dumps the dollar</td>\n",
              "      <td>b gorbachev   georgian military attacked the s...</td>\n",
              "      <td>b cnn use footage of tskhinvali ruins to cover...</td>\n",
              "      <td>b beginning a war as the olympics were opening...</td>\n",
              "      <td>b    pyramids as large as the luxor stacked in...</td>\n",
              "      <td>b the    top party cities in the world</td>\n",
              "      <td>b u s  troops still in georgia  did you know t...</td>\n",
              "      <td>b why russias response to georgia was right</td>\n",
              "      <td>b gorbachev accuses u s  of making a  serious ...</td>\n",
              "      <td>b russia  georgia  and nato  cold war two</td>\n",
              "      <td>b remember that adorable    year old who led y...</td>\n",
              "      <td>b war in georgia  the israeli connection</td>\n",
              "      <td>b all signs point to the us encouraging georgi...</td>\n",
              "      <td>b christopher king argues that the us and nato...</td>\n",
              "      <td>b america  the new mexico</td>\n",
              "      <td>b bbc news   asia pacific   extinction  by man...</td>\n",
              "    </tr>\n",
              "    <tr>\n",
              "      <th>3</th>\n",
              "      <td>b  u s  refuses israel weapons to attack iran ...</td>\n",
              "      <td>b when the president ordered to attack tskhinv...</td>\n",
              "      <td>b  israel clears troops who killed reuters cam...</td>\n",
              "      <td>b britain  s policy of being tough on drugs is...</td>\n",
              "      <td>b body of    year old found in trunk  latest  ...</td>\n",
              "      <td>b china has moved     million  quake survivors...</td>\n",
              "      <td>b bush announces operation get all up in russi...</td>\n",
              "      <td>b russian forces sink georgian ships</td>\n",
              "      <td>b the commander of a navy air reconnaissance s...</td>\n",
              "      <td>b     of cnn readers  russia s actions in geor...</td>\n",
              "      <td>b usa to send fleet into black sea to help geo...</td>\n",
              "      <td>b us warns against israeli plan to strike agai...</td>\n",
              "      <td>b in an intriguing cyberalliance  two estonian...</td>\n",
              "      <td>b the cnn effect  georgia schools russia in in...</td>\n",
              "      <td>b why russias response to georgia was right</td>\n",
              "      <td>b elephants extinct by</td>\n",
              "      <td>b us humanitarian missions soon in georgia   i...</td>\n",
              "      <td>b georgia s ddos came from us sources</td>\n",
              "      <td>b russian convoy heads into georgia  violating...</td>\n",
              "      <td>b israeli defence minister  us against strike ...</td>\n",
              "      <td>b gorbachev  we had no choice</td>\n",
              "      <td>b witness  russian forces head towards tbilisi...</td>\n",
              "      <td>b  quarter of russians blame u s  for conflict...</td>\n",
              "      <td>b georgian president  says us military will ta...</td>\n",
              "      <td>b       nobel laureate aleksander solzhenitsyn...</td>\n",
              "    </tr>\n",
              "    <tr>\n",
              "      <th>4</th>\n",
              "      <td>b all the experts admit that we should legalis...</td>\n",
              "      <td>b war in south osetia      pictures made by a ...</td>\n",
              "      <td>b swedish wrestler ara abrahamian throws away ...</td>\n",
              "      <td>b russia exaggerated the death toll in south o...</td>\n",
              "      <td>b missile that killed   inside pakistan may ha...</td>\n",
              "      <td>b rushdie condemns random house s refusal to p...</td>\n",
              "      <td>b poland and us agree to missle defense deal  ...</td>\n",
              "      <td>b will the russians conquer tblisi  bet on it ...</td>\n",
              "      <td>b russia exaggerating south ossetian death tol...</td>\n",
              "      <td>b  musharraf expected to resign rather than fa...</td>\n",
              "      <td>b moscow made plans months ago to invade georgia</td>\n",
              "      <td>b why russias response to georgia was right</td>\n",
              "      <td>b nigeria has handed over the potentially oil ...</td>\n",
              "      <td>b the us and poland have agreed a preliminary ...</td>\n",
              "      <td>b russia apparently is sabotaging infrastructu...</td>\n",
              "      <td>b bank analyst forecast georgian crisis   days...</td>\n",
              "      <td>b georgia confict could set back russia s us r...</td>\n",
              "      <td>b war in the caucasus is as much the product o...</td>\n",
              "      <td>b  non media  photos of south ossetia georgia ...</td>\n",
              "      <td>b georgian tv reporter shot by russian sniper ...</td>\n",
              "      <td>b saudi arabia  mother moves to block child ma...</td>\n",
              "      <td>b taliban wages war on humanitarian aid workers</td>\n",
              "      <td>b russia  world   can forget about  georgia  s...</td>\n",
              "      <td>b darfur rebels accuse sudan of mounting major...</td>\n",
              "      <td>b philippines   peace advocate say muslims nee...</td>\n",
              "    </tr>\n",
              "  </tbody>\n",
              "</table>\n",
              "</div>"
            ],
            "text/plain": [
              "                                                   0  ...                                                 24\n",
              "0  b georgia  downs two russian warplanes  as cou...  ...           b no help for mexico s kidnapping surge \n",
              "1  b why wont america and nato help us  if they w...  ...  b so this is what it s come to  trading sex fo...\n",
              "2  b remember that adorable   year old who sang a...  ...  b bbc news   asia pacific   extinction  by man...\n",
              "3  b  u s  refuses israel weapons to attack iran ...  ...  b       nobel laureate aleksander solzhenitsyn...\n",
              "4  b all the experts admit that we should legalis...  ...  b philippines   peace advocate say muslims nee...\n",
              "\n",
              "[5 rows x 25 columns]"
            ]
          },
          "metadata": {
            "tags": []
          },
          "execution_count": 6
        }
      ]
    },
    {
      "cell_type": "code",
      "metadata": {
        "colab": {
          "base_uri": "https://localhost:8080/",
          "height": 156
        },
        "id": "JQZLtVb4Ltr1",
        "outputId": "baa829ad-dab4-4959-b2ac-897643b559b2"
      },
      "source": [
        "# ' '.join(str(x) for x in dataset.iloc[0, 0:25])  #example"
      ],
      "execution_count": null,
      "outputs": [
        {
          "output_type": "execute_result",
          "data": {
            "application/vnd.google.colaboratory.intrinsic+json": {
              "type": "string"
            },
            "text/plain": [
              "'b georgia  downs two russian warplanes  as countries move to brink of war  b breaking  musharraf to be impeached   b russia today  columns of troops roll into south ossetia  footage from fighting  youtube   b russian tanks are moving towards the capital of south ossetia  which has reportedly been completely destroyed by georgian artillery fire  b afghan children raped with  impunity   u n  official says   this is sick  a three year old was raped and they do nothing  b     russian tanks have entered south ossetia whilst georgia shoots down two russian jets   b breaking  georgia invades south ossetia  russia warned it would intervene on so s side  b the  enemy combatent  trials are nothing but a sham  salim haman has been sentenced to       years  but will be kept longer anyway just because they feel like it   b georgian troops retreat from s  osettain capital  presumably leaving several hundred people killed   video   b did the u s  prep georgia for war with russia   b rice gives green light for israel to attack iran  says u s  has no veto over israeli military ops  b announcing class action lawsuit on behalf of american public against the fbi  b so   russia and georgia are at war and the nyt s top story is opening ceremonies of the olympics   what a fucking disgrace and yet further proof of the decline of journalism   b china tells bush to stay out of other countries  affairs  b did world war iii start today   b georgia invades south ossetia   if russia gets involved  will nato absorb georgia and unleash a full scale war   b al qaeda faces islamist backlash  b condoleezza rice   the us would not act to prevent an israeli strike on iran   israeli defense minister ehud barak   israel is prepared for uncompromising victory in the case of military hostilities    b this is a busy day   the european union has approved new sanctions against iran in protest at its nuclear programme   b georgia will withdraw       soldiers from iraq to help fight off russian forces in georgia s breakaway region of south ossetia  b why the pentagon thinks attacking iran is a bad idea   us news  amp  world report  b caucasus in crisis  georgia invades south ossetia  b indian shoe manufactory    and again in a series of  you do not like your work    b visitors suffering from mental illnesses banned from olympics  b no help for mexico s kidnapping surge '"
            ]
          },
          "metadata": {
            "tags": []
          },
          "execution_count": 40
        }
      ]
    },
    {
      "cell_type": "code",
      "metadata": {
        "colab": {
          "base_uri": "https://localhost:8080/"
        },
        "id": "ox99liOKMqf6",
        "outputId": "ba45e7e3-48da-4bd0-8ee5-16ad3963e862"
      },
      "source": [
        "# create a list that combines the total 25 headlines together for each instances\n",
        "totalheads = []\n",
        "for row in range(0, len(dataset.index)):\n",
        "    totalheads.append(' '.join(str(j) for j in dataset.iloc[row, 0:25]))\n",
        "len(totalheads)"
      ],
      "execution_count": null,
      "outputs": [
        {
          "output_type": "execute_result",
          "data": {
            "text/plain": [
              "1863"
            ]
          },
          "metadata": {
            "tags": []
          },
          "execution_count": 7
        }
      ]
    },
    {
      "cell_type": "code",
      "metadata": {
        "colab": {
          "base_uri": "https://localhost:8080/",
          "height": 419
        },
        "id": "rcFHMQ6yGVX9",
        "outputId": "139f74d0-63ef-4f4a-e046-41c5e93012a6"
      },
      "source": [
        "clean = pd.DataFrame(totalheads,columns=['Text'])\n",
        "clean"
      ],
      "execution_count": null,
      "outputs": [
        {
          "output_type": "execute_result",
          "data": {
            "text/html": [
              "<div>\n",
              "<style scoped>\n",
              "    .dataframe tbody tr th:only-of-type {\n",
              "        vertical-align: middle;\n",
              "    }\n",
              "\n",
              "    .dataframe tbody tr th {\n",
              "        vertical-align: top;\n",
              "    }\n",
              "\n",
              "    .dataframe thead th {\n",
              "        text-align: right;\n",
              "    }\n",
              "</style>\n",
              "<table border=\"1\" class=\"dataframe\">\n",
              "  <thead>\n",
              "    <tr style=\"text-align: right;\">\n",
              "      <th></th>\n",
              "      <th>Text</th>\n",
              "    </tr>\n",
              "  </thead>\n",
              "  <tbody>\n",
              "    <tr>\n",
              "      <th>0</th>\n",
              "      <td>b georgia  downs two russian warplanes  as cou...</td>\n",
              "    </tr>\n",
              "    <tr>\n",
              "      <th>1</th>\n",
              "      <td>b why wont america and nato help us  if they w...</td>\n",
              "    </tr>\n",
              "    <tr>\n",
              "      <th>2</th>\n",
              "      <td>b remember that adorable   year old who sang a...</td>\n",
              "    </tr>\n",
              "    <tr>\n",
              "      <th>3</th>\n",
              "      <td>b  u s  refuses israel weapons to attack iran ...</td>\n",
              "    </tr>\n",
              "    <tr>\n",
              "      <th>4</th>\n",
              "      <td>b all the experts admit that we should legalis...</td>\n",
              "    </tr>\n",
              "    <tr>\n",
              "      <th>...</th>\n",
              "      <td>...</td>\n",
              "    </tr>\n",
              "    <tr>\n",
              "      <th>1858</th>\n",
              "      <td>brazil declares emergency after       babies a...</td>\n",
              "    </tr>\n",
              "    <tr>\n",
              "      <th>1859</th>\n",
              "      <td>germany recruits       teachers to teach germa...</td>\n",
              "    </tr>\n",
              "    <tr>\n",
              "      <th>1860</th>\n",
              "      <td>pentagon thwarts obama s effort to close guant...</td>\n",
              "    </tr>\n",
              "    <tr>\n",
              "      <th>1861</th>\n",
              "      <td>tech companies face criminal charges if they n...</td>\n",
              "    </tr>\n",
              "    <tr>\n",
              "      <th>1862</th>\n",
              "      <td>microsoft corp said on wednesday it will begin...</td>\n",
              "    </tr>\n",
              "  </tbody>\n",
              "</table>\n",
              "<p>1863 rows × 1 columns</p>\n",
              "</div>"
            ],
            "text/plain": [
              "                                                   Text\n",
              "0     b georgia  downs two russian warplanes  as cou...\n",
              "1     b why wont america and nato help us  if they w...\n",
              "2     b remember that adorable   year old who sang a...\n",
              "3     b  u s  refuses israel weapons to attack iran ...\n",
              "4     b all the experts admit that we should legalis...\n",
              "...                                                 ...\n",
              "1858  brazil declares emergency after       babies a...\n",
              "1859  germany recruits       teachers to teach germa...\n",
              "1860  pentagon thwarts obama s effort to close guant...\n",
              "1861  tech companies face criminal charges if they n...\n",
              "1862  microsoft corp said on wednesday it will begin...\n",
              "\n",
              "[1863 rows x 1 columns]"
            ]
          },
          "metadata": {
            "tags": []
          },
          "execution_count": 8
        }
      ]
    },
    {
      "cell_type": "code",
      "metadata": {
        "id": "3hu1qonvNDod"
      },
      "source": [
        "#use CountVectorizer ngrams of (2, 2) to combine 2 words together and vectorize them\n",
        "cv = CountVectorizer(ngram_range=(2, 2))\n",
        "trainingset = cv.fit_transform(totalheads)"
      ],
      "execution_count": null,
      "outputs": []
    },
    {
      "cell_type": "code",
      "metadata": {
        "id": "pxmC7tvqDYbE"
      },
      "source": [
        "k = trainingset.toarray()"
      ],
      "execution_count": null,
      "outputs": []
    },
    {
      "cell_type": "code",
      "metadata": {
        "id": "b_t2_-vbEqVC"
      },
      "source": [
        "clean = pd.DataFrame(k)"
      ],
      "execution_count": null,
      "outputs": []
    },
    {
      "cell_type": "code",
      "metadata": {
        "colab": {
          "base_uri": "https://localhost:8080/",
          "height": 439
        },
        "id": "M_FyRih2E11d",
        "outputId": "6c493479-1b9f-48c9-8241-614758de764e"
      },
      "source": [
        "clean"
      ],
      "execution_count": null,
      "outputs": [
        {
          "output_type": "execute_result",
          "data": {
            "text/html": [
              "<div>\n",
              "<style scoped>\n",
              "    .dataframe tbody tr th:only-of-type {\n",
              "        vertical-align: middle;\n",
              "    }\n",
              "\n",
              "    .dataframe tbody tr th {\n",
              "        vertical-align: top;\n",
              "    }\n",
              "\n",
              "    .dataframe thead th {\n",
              "        text-align: right;\n",
              "    }\n",
              "</style>\n",
              "<table border=\"1\" class=\"dataframe\">\n",
              "  <thead>\n",
              "    <tr style=\"text-align: right;\">\n",
              "      <th></th>\n",
              "      <th>0</th>\n",
              "      <th>1</th>\n",
              "      <th>2</th>\n",
              "      <th>3</th>\n",
              "      <th>4</th>\n",
              "      <th>5</th>\n",
              "      <th>6</th>\n",
              "      <th>7</th>\n",
              "      <th>8</th>\n",
              "      <th>9</th>\n",
              "      <th>10</th>\n",
              "      <th>11</th>\n",
              "      <th>12</th>\n",
              "      <th>13</th>\n",
              "      <th>14</th>\n",
              "      <th>15</th>\n",
              "      <th>16</th>\n",
              "      <th>17</th>\n",
              "      <th>18</th>\n",
              "      <th>19</th>\n",
              "      <th>20</th>\n",
              "      <th>21</th>\n",
              "      <th>22</th>\n",
              "      <th>23</th>\n",
              "      <th>24</th>\n",
              "      <th>25</th>\n",
              "      <th>26</th>\n",
              "      <th>27</th>\n",
              "      <th>28</th>\n",
              "      <th>29</th>\n",
              "      <th>30</th>\n",
              "      <th>31</th>\n",
              "      <th>32</th>\n",
              "      <th>33</th>\n",
              "      <th>34</th>\n",
              "      <th>35</th>\n",
              "      <th>36</th>\n",
              "      <th>37</th>\n",
              "      <th>38</th>\n",
              "      <th>39</th>\n",
              "      <th>...</th>\n",
              "      <th>403937</th>\n",
              "      <th>403938</th>\n",
              "      <th>403939</th>\n",
              "      <th>403940</th>\n",
              "      <th>403941</th>\n",
              "      <th>403942</th>\n",
              "      <th>403943</th>\n",
              "      <th>403944</th>\n",
              "      <th>403945</th>\n",
              "      <th>403946</th>\n",
              "      <th>403947</th>\n",
              "      <th>403948</th>\n",
              "      <th>403949</th>\n",
              "      <th>403950</th>\n",
              "      <th>403951</th>\n",
              "      <th>403952</th>\n",
              "      <th>403953</th>\n",
              "      <th>403954</th>\n",
              "      <th>403955</th>\n",
              "      <th>403956</th>\n",
              "      <th>403957</th>\n",
              "      <th>403958</th>\n",
              "      <th>403959</th>\n",
              "      <th>403960</th>\n",
              "      <th>403961</th>\n",
              "      <th>403962</th>\n",
              "      <th>403963</th>\n",
              "      <th>403964</th>\n",
              "      <th>403965</th>\n",
              "      <th>403966</th>\n",
              "      <th>403967</th>\n",
              "      <th>403968</th>\n",
              "      <th>403969</th>\n",
              "      <th>403970</th>\n",
              "      <th>403971</th>\n",
              "      <th>403972</th>\n",
              "      <th>403973</th>\n",
              "      <th>403974</th>\n",
              "      <th>403975</th>\n",
              "      <th>403976</th>\n",
              "    </tr>\n",
              "  </thead>\n",
              "  <tbody>\n",
              "    <tr>\n",
              "      <th>0</th>\n",
              "      <td>0</td>\n",
              "      <td>0</td>\n",
              "      <td>0</td>\n",
              "      <td>0</td>\n",
              "      <td>0</td>\n",
              "      <td>0</td>\n",
              "      <td>0</td>\n",
              "      <td>0</td>\n",
              "      <td>0</td>\n",
              "      <td>0</td>\n",
              "      <td>0</td>\n",
              "      <td>0</td>\n",
              "      <td>0</td>\n",
              "      <td>0</td>\n",
              "      <td>0</td>\n",
              "      <td>0</td>\n",
              "      <td>0</td>\n",
              "      <td>0</td>\n",
              "      <td>0</td>\n",
              "      <td>0</td>\n",
              "      <td>0</td>\n",
              "      <td>0</td>\n",
              "      <td>0</td>\n",
              "      <td>0</td>\n",
              "      <td>0</td>\n",
              "      <td>0</td>\n",
              "      <td>0</td>\n",
              "      <td>0</td>\n",
              "      <td>0</td>\n",
              "      <td>0</td>\n",
              "      <td>0</td>\n",
              "      <td>0</td>\n",
              "      <td>0</td>\n",
              "      <td>0</td>\n",
              "      <td>0</td>\n",
              "      <td>0</td>\n",
              "      <td>0</td>\n",
              "      <td>0</td>\n",
              "      <td>0</td>\n",
              "      <td>0</td>\n",
              "      <td>...</td>\n",
              "      <td>0</td>\n",
              "      <td>0</td>\n",
              "      <td>0</td>\n",
              "      <td>0</td>\n",
              "      <td>0</td>\n",
              "      <td>0</td>\n",
              "      <td>0</td>\n",
              "      <td>0</td>\n",
              "      <td>0</td>\n",
              "      <td>0</td>\n",
              "      <td>0</td>\n",
              "      <td>0</td>\n",
              "      <td>0</td>\n",
              "      <td>0</td>\n",
              "      <td>0</td>\n",
              "      <td>0</td>\n",
              "      <td>0</td>\n",
              "      <td>0</td>\n",
              "      <td>0</td>\n",
              "      <td>0</td>\n",
              "      <td>0</td>\n",
              "      <td>0</td>\n",
              "      <td>0</td>\n",
              "      <td>0</td>\n",
              "      <td>0</td>\n",
              "      <td>0</td>\n",
              "      <td>0</td>\n",
              "      <td>0</td>\n",
              "      <td>0</td>\n",
              "      <td>0</td>\n",
              "      <td>0</td>\n",
              "      <td>0</td>\n",
              "      <td>0</td>\n",
              "      <td>0</td>\n",
              "      <td>0</td>\n",
              "      <td>0</td>\n",
              "      <td>0</td>\n",
              "      <td>0</td>\n",
              "      <td>0</td>\n",
              "      <td>0</td>\n",
              "    </tr>\n",
              "    <tr>\n",
              "      <th>1</th>\n",
              "      <td>0</td>\n",
              "      <td>0</td>\n",
              "      <td>0</td>\n",
              "      <td>0</td>\n",
              "      <td>0</td>\n",
              "      <td>0</td>\n",
              "      <td>0</td>\n",
              "      <td>0</td>\n",
              "      <td>0</td>\n",
              "      <td>0</td>\n",
              "      <td>0</td>\n",
              "      <td>0</td>\n",
              "      <td>0</td>\n",
              "      <td>0</td>\n",
              "      <td>0</td>\n",
              "      <td>0</td>\n",
              "      <td>0</td>\n",
              "      <td>0</td>\n",
              "      <td>0</td>\n",
              "      <td>0</td>\n",
              "      <td>0</td>\n",
              "      <td>0</td>\n",
              "      <td>0</td>\n",
              "      <td>0</td>\n",
              "      <td>0</td>\n",
              "      <td>0</td>\n",
              "      <td>0</td>\n",
              "      <td>0</td>\n",
              "      <td>0</td>\n",
              "      <td>0</td>\n",
              "      <td>0</td>\n",
              "      <td>0</td>\n",
              "      <td>0</td>\n",
              "      <td>0</td>\n",
              "      <td>0</td>\n",
              "      <td>0</td>\n",
              "      <td>0</td>\n",
              "      <td>0</td>\n",
              "      <td>0</td>\n",
              "      <td>0</td>\n",
              "      <td>...</td>\n",
              "      <td>0</td>\n",
              "      <td>0</td>\n",
              "      <td>0</td>\n",
              "      <td>0</td>\n",
              "      <td>0</td>\n",
              "      <td>0</td>\n",
              "      <td>0</td>\n",
              "      <td>0</td>\n",
              "      <td>0</td>\n",
              "      <td>0</td>\n",
              "      <td>0</td>\n",
              "      <td>0</td>\n",
              "      <td>0</td>\n",
              "      <td>0</td>\n",
              "      <td>0</td>\n",
              "      <td>0</td>\n",
              "      <td>0</td>\n",
              "      <td>0</td>\n",
              "      <td>0</td>\n",
              "      <td>0</td>\n",
              "      <td>0</td>\n",
              "      <td>0</td>\n",
              "      <td>0</td>\n",
              "      <td>0</td>\n",
              "      <td>0</td>\n",
              "      <td>0</td>\n",
              "      <td>0</td>\n",
              "      <td>0</td>\n",
              "      <td>0</td>\n",
              "      <td>0</td>\n",
              "      <td>0</td>\n",
              "      <td>0</td>\n",
              "      <td>0</td>\n",
              "      <td>0</td>\n",
              "      <td>0</td>\n",
              "      <td>0</td>\n",
              "      <td>0</td>\n",
              "      <td>0</td>\n",
              "      <td>0</td>\n",
              "      <td>0</td>\n",
              "    </tr>\n",
              "    <tr>\n",
              "      <th>2</th>\n",
              "      <td>0</td>\n",
              "      <td>0</td>\n",
              "      <td>0</td>\n",
              "      <td>0</td>\n",
              "      <td>0</td>\n",
              "      <td>0</td>\n",
              "      <td>0</td>\n",
              "      <td>0</td>\n",
              "      <td>0</td>\n",
              "      <td>0</td>\n",
              "      <td>0</td>\n",
              "      <td>0</td>\n",
              "      <td>0</td>\n",
              "      <td>0</td>\n",
              "      <td>0</td>\n",
              "      <td>0</td>\n",
              "      <td>0</td>\n",
              "      <td>0</td>\n",
              "      <td>0</td>\n",
              "      <td>0</td>\n",
              "      <td>0</td>\n",
              "      <td>0</td>\n",
              "      <td>0</td>\n",
              "      <td>0</td>\n",
              "      <td>0</td>\n",
              "      <td>0</td>\n",
              "      <td>0</td>\n",
              "      <td>0</td>\n",
              "      <td>0</td>\n",
              "      <td>0</td>\n",
              "      <td>0</td>\n",
              "      <td>0</td>\n",
              "      <td>0</td>\n",
              "      <td>0</td>\n",
              "      <td>0</td>\n",
              "      <td>0</td>\n",
              "      <td>0</td>\n",
              "      <td>0</td>\n",
              "      <td>0</td>\n",
              "      <td>0</td>\n",
              "      <td>...</td>\n",
              "      <td>0</td>\n",
              "      <td>0</td>\n",
              "      <td>0</td>\n",
              "      <td>0</td>\n",
              "      <td>0</td>\n",
              "      <td>0</td>\n",
              "      <td>0</td>\n",
              "      <td>0</td>\n",
              "      <td>0</td>\n",
              "      <td>0</td>\n",
              "      <td>0</td>\n",
              "      <td>0</td>\n",
              "      <td>0</td>\n",
              "      <td>0</td>\n",
              "      <td>0</td>\n",
              "      <td>0</td>\n",
              "      <td>0</td>\n",
              "      <td>0</td>\n",
              "      <td>0</td>\n",
              "      <td>0</td>\n",
              "      <td>0</td>\n",
              "      <td>0</td>\n",
              "      <td>0</td>\n",
              "      <td>0</td>\n",
              "      <td>0</td>\n",
              "      <td>0</td>\n",
              "      <td>0</td>\n",
              "      <td>0</td>\n",
              "      <td>0</td>\n",
              "      <td>0</td>\n",
              "      <td>0</td>\n",
              "      <td>0</td>\n",
              "      <td>0</td>\n",
              "      <td>0</td>\n",
              "      <td>0</td>\n",
              "      <td>0</td>\n",
              "      <td>0</td>\n",
              "      <td>0</td>\n",
              "      <td>0</td>\n",
              "      <td>0</td>\n",
              "    </tr>\n",
              "    <tr>\n",
              "      <th>3</th>\n",
              "      <td>0</td>\n",
              "      <td>0</td>\n",
              "      <td>0</td>\n",
              "      <td>0</td>\n",
              "      <td>0</td>\n",
              "      <td>0</td>\n",
              "      <td>0</td>\n",
              "      <td>0</td>\n",
              "      <td>0</td>\n",
              "      <td>0</td>\n",
              "      <td>0</td>\n",
              "      <td>0</td>\n",
              "      <td>0</td>\n",
              "      <td>0</td>\n",
              "      <td>0</td>\n",
              "      <td>0</td>\n",
              "      <td>0</td>\n",
              "      <td>0</td>\n",
              "      <td>0</td>\n",
              "      <td>0</td>\n",
              "      <td>0</td>\n",
              "      <td>0</td>\n",
              "      <td>0</td>\n",
              "      <td>0</td>\n",
              "      <td>0</td>\n",
              "      <td>0</td>\n",
              "      <td>0</td>\n",
              "      <td>0</td>\n",
              "      <td>0</td>\n",
              "      <td>0</td>\n",
              "      <td>0</td>\n",
              "      <td>0</td>\n",
              "      <td>0</td>\n",
              "      <td>0</td>\n",
              "      <td>0</td>\n",
              "      <td>0</td>\n",
              "      <td>0</td>\n",
              "      <td>0</td>\n",
              "      <td>0</td>\n",
              "      <td>0</td>\n",
              "      <td>...</td>\n",
              "      <td>0</td>\n",
              "      <td>0</td>\n",
              "      <td>0</td>\n",
              "      <td>0</td>\n",
              "      <td>0</td>\n",
              "      <td>0</td>\n",
              "      <td>0</td>\n",
              "      <td>0</td>\n",
              "      <td>0</td>\n",
              "      <td>0</td>\n",
              "      <td>0</td>\n",
              "      <td>0</td>\n",
              "      <td>0</td>\n",
              "      <td>0</td>\n",
              "      <td>0</td>\n",
              "      <td>0</td>\n",
              "      <td>0</td>\n",
              "      <td>0</td>\n",
              "      <td>0</td>\n",
              "      <td>0</td>\n",
              "      <td>0</td>\n",
              "      <td>0</td>\n",
              "      <td>0</td>\n",
              "      <td>0</td>\n",
              "      <td>0</td>\n",
              "      <td>0</td>\n",
              "      <td>0</td>\n",
              "      <td>0</td>\n",
              "      <td>0</td>\n",
              "      <td>0</td>\n",
              "      <td>0</td>\n",
              "      <td>0</td>\n",
              "      <td>0</td>\n",
              "      <td>0</td>\n",
              "      <td>0</td>\n",
              "      <td>0</td>\n",
              "      <td>0</td>\n",
              "      <td>0</td>\n",
              "      <td>0</td>\n",
              "      <td>0</td>\n",
              "    </tr>\n",
              "    <tr>\n",
              "      <th>4</th>\n",
              "      <td>0</td>\n",
              "      <td>0</td>\n",
              "      <td>0</td>\n",
              "      <td>0</td>\n",
              "      <td>0</td>\n",
              "      <td>0</td>\n",
              "      <td>0</td>\n",
              "      <td>0</td>\n",
              "      <td>0</td>\n",
              "      <td>0</td>\n",
              "      <td>0</td>\n",
              "      <td>0</td>\n",
              "      <td>0</td>\n",
              "      <td>0</td>\n",
              "      <td>0</td>\n",
              "      <td>0</td>\n",
              "      <td>0</td>\n",
              "      <td>0</td>\n",
              "      <td>0</td>\n",
              "      <td>0</td>\n",
              "      <td>0</td>\n",
              "      <td>0</td>\n",
              "      <td>0</td>\n",
              "      <td>0</td>\n",
              "      <td>0</td>\n",
              "      <td>0</td>\n",
              "      <td>0</td>\n",
              "      <td>0</td>\n",
              "      <td>0</td>\n",
              "      <td>0</td>\n",
              "      <td>0</td>\n",
              "      <td>0</td>\n",
              "      <td>0</td>\n",
              "      <td>0</td>\n",
              "      <td>0</td>\n",
              "      <td>0</td>\n",
              "      <td>0</td>\n",
              "      <td>0</td>\n",
              "      <td>0</td>\n",
              "      <td>0</td>\n",
              "      <td>...</td>\n",
              "      <td>0</td>\n",
              "      <td>0</td>\n",
              "      <td>0</td>\n",
              "      <td>0</td>\n",
              "      <td>0</td>\n",
              "      <td>0</td>\n",
              "      <td>0</td>\n",
              "      <td>0</td>\n",
              "      <td>0</td>\n",
              "      <td>0</td>\n",
              "      <td>0</td>\n",
              "      <td>0</td>\n",
              "      <td>0</td>\n",
              "      <td>0</td>\n",
              "      <td>0</td>\n",
              "      <td>0</td>\n",
              "      <td>0</td>\n",
              "      <td>0</td>\n",
              "      <td>0</td>\n",
              "      <td>0</td>\n",
              "      <td>0</td>\n",
              "      <td>0</td>\n",
              "      <td>0</td>\n",
              "      <td>0</td>\n",
              "      <td>0</td>\n",
              "      <td>0</td>\n",
              "      <td>0</td>\n",
              "      <td>0</td>\n",
              "      <td>0</td>\n",
              "      <td>0</td>\n",
              "      <td>0</td>\n",
              "      <td>0</td>\n",
              "      <td>0</td>\n",
              "      <td>0</td>\n",
              "      <td>0</td>\n",
              "      <td>0</td>\n",
              "      <td>0</td>\n",
              "      <td>0</td>\n",
              "      <td>0</td>\n",
              "      <td>0</td>\n",
              "    </tr>\n",
              "    <tr>\n",
              "      <th>...</th>\n",
              "      <td>...</td>\n",
              "      <td>...</td>\n",
              "      <td>...</td>\n",
              "      <td>...</td>\n",
              "      <td>...</td>\n",
              "      <td>...</td>\n",
              "      <td>...</td>\n",
              "      <td>...</td>\n",
              "      <td>...</td>\n",
              "      <td>...</td>\n",
              "      <td>...</td>\n",
              "      <td>...</td>\n",
              "      <td>...</td>\n",
              "      <td>...</td>\n",
              "      <td>...</td>\n",
              "      <td>...</td>\n",
              "      <td>...</td>\n",
              "      <td>...</td>\n",
              "      <td>...</td>\n",
              "      <td>...</td>\n",
              "      <td>...</td>\n",
              "      <td>...</td>\n",
              "      <td>...</td>\n",
              "      <td>...</td>\n",
              "      <td>...</td>\n",
              "      <td>...</td>\n",
              "      <td>...</td>\n",
              "      <td>...</td>\n",
              "      <td>...</td>\n",
              "      <td>...</td>\n",
              "      <td>...</td>\n",
              "      <td>...</td>\n",
              "      <td>...</td>\n",
              "      <td>...</td>\n",
              "      <td>...</td>\n",
              "      <td>...</td>\n",
              "      <td>...</td>\n",
              "      <td>...</td>\n",
              "      <td>...</td>\n",
              "      <td>...</td>\n",
              "      <td>...</td>\n",
              "      <td>...</td>\n",
              "      <td>...</td>\n",
              "      <td>...</td>\n",
              "      <td>...</td>\n",
              "      <td>...</td>\n",
              "      <td>...</td>\n",
              "      <td>...</td>\n",
              "      <td>...</td>\n",
              "      <td>...</td>\n",
              "      <td>...</td>\n",
              "      <td>...</td>\n",
              "      <td>...</td>\n",
              "      <td>...</td>\n",
              "      <td>...</td>\n",
              "      <td>...</td>\n",
              "      <td>...</td>\n",
              "      <td>...</td>\n",
              "      <td>...</td>\n",
              "      <td>...</td>\n",
              "      <td>...</td>\n",
              "      <td>...</td>\n",
              "      <td>...</td>\n",
              "      <td>...</td>\n",
              "      <td>...</td>\n",
              "      <td>...</td>\n",
              "      <td>...</td>\n",
              "      <td>...</td>\n",
              "      <td>...</td>\n",
              "      <td>...</td>\n",
              "      <td>...</td>\n",
              "      <td>...</td>\n",
              "      <td>...</td>\n",
              "      <td>...</td>\n",
              "      <td>...</td>\n",
              "      <td>...</td>\n",
              "      <td>...</td>\n",
              "      <td>...</td>\n",
              "      <td>...</td>\n",
              "      <td>...</td>\n",
              "      <td>...</td>\n",
              "    </tr>\n",
              "    <tr>\n",
              "      <th>1858</th>\n",
              "      <td>0</td>\n",
              "      <td>0</td>\n",
              "      <td>0</td>\n",
              "      <td>0</td>\n",
              "      <td>0</td>\n",
              "      <td>0</td>\n",
              "      <td>0</td>\n",
              "      <td>0</td>\n",
              "      <td>0</td>\n",
              "      <td>0</td>\n",
              "      <td>0</td>\n",
              "      <td>0</td>\n",
              "      <td>0</td>\n",
              "      <td>0</td>\n",
              "      <td>0</td>\n",
              "      <td>0</td>\n",
              "      <td>0</td>\n",
              "      <td>0</td>\n",
              "      <td>0</td>\n",
              "      <td>0</td>\n",
              "      <td>0</td>\n",
              "      <td>0</td>\n",
              "      <td>0</td>\n",
              "      <td>0</td>\n",
              "      <td>0</td>\n",
              "      <td>0</td>\n",
              "      <td>0</td>\n",
              "      <td>0</td>\n",
              "      <td>0</td>\n",
              "      <td>0</td>\n",
              "      <td>0</td>\n",
              "      <td>0</td>\n",
              "      <td>0</td>\n",
              "      <td>0</td>\n",
              "      <td>0</td>\n",
              "      <td>0</td>\n",
              "      <td>0</td>\n",
              "      <td>0</td>\n",
              "      <td>0</td>\n",
              "      <td>0</td>\n",
              "      <td>...</td>\n",
              "      <td>0</td>\n",
              "      <td>0</td>\n",
              "      <td>0</td>\n",
              "      <td>0</td>\n",
              "      <td>0</td>\n",
              "      <td>0</td>\n",
              "      <td>0</td>\n",
              "      <td>0</td>\n",
              "      <td>0</td>\n",
              "      <td>0</td>\n",
              "      <td>0</td>\n",
              "      <td>0</td>\n",
              "      <td>0</td>\n",
              "      <td>0</td>\n",
              "      <td>0</td>\n",
              "      <td>0</td>\n",
              "      <td>0</td>\n",
              "      <td>0</td>\n",
              "      <td>0</td>\n",
              "      <td>0</td>\n",
              "      <td>0</td>\n",
              "      <td>0</td>\n",
              "      <td>0</td>\n",
              "      <td>0</td>\n",
              "      <td>0</td>\n",
              "      <td>0</td>\n",
              "      <td>0</td>\n",
              "      <td>0</td>\n",
              "      <td>0</td>\n",
              "      <td>0</td>\n",
              "      <td>0</td>\n",
              "      <td>0</td>\n",
              "      <td>0</td>\n",
              "      <td>0</td>\n",
              "      <td>0</td>\n",
              "      <td>0</td>\n",
              "      <td>0</td>\n",
              "      <td>0</td>\n",
              "      <td>0</td>\n",
              "      <td>0</td>\n",
              "    </tr>\n",
              "    <tr>\n",
              "      <th>1859</th>\n",
              "      <td>0</td>\n",
              "      <td>0</td>\n",
              "      <td>0</td>\n",
              "      <td>0</td>\n",
              "      <td>0</td>\n",
              "      <td>0</td>\n",
              "      <td>0</td>\n",
              "      <td>0</td>\n",
              "      <td>0</td>\n",
              "      <td>0</td>\n",
              "      <td>0</td>\n",
              "      <td>0</td>\n",
              "      <td>0</td>\n",
              "      <td>0</td>\n",
              "      <td>0</td>\n",
              "      <td>0</td>\n",
              "      <td>0</td>\n",
              "      <td>0</td>\n",
              "      <td>0</td>\n",
              "      <td>0</td>\n",
              "      <td>0</td>\n",
              "      <td>0</td>\n",
              "      <td>0</td>\n",
              "      <td>0</td>\n",
              "      <td>0</td>\n",
              "      <td>0</td>\n",
              "      <td>0</td>\n",
              "      <td>0</td>\n",
              "      <td>0</td>\n",
              "      <td>0</td>\n",
              "      <td>0</td>\n",
              "      <td>0</td>\n",
              "      <td>0</td>\n",
              "      <td>0</td>\n",
              "      <td>0</td>\n",
              "      <td>0</td>\n",
              "      <td>0</td>\n",
              "      <td>0</td>\n",
              "      <td>0</td>\n",
              "      <td>0</td>\n",
              "      <td>...</td>\n",
              "      <td>0</td>\n",
              "      <td>0</td>\n",
              "      <td>0</td>\n",
              "      <td>0</td>\n",
              "      <td>0</td>\n",
              "      <td>0</td>\n",
              "      <td>0</td>\n",
              "      <td>0</td>\n",
              "      <td>0</td>\n",
              "      <td>0</td>\n",
              "      <td>0</td>\n",
              "      <td>0</td>\n",
              "      <td>0</td>\n",
              "      <td>0</td>\n",
              "      <td>0</td>\n",
              "      <td>0</td>\n",
              "      <td>0</td>\n",
              "      <td>0</td>\n",
              "      <td>0</td>\n",
              "      <td>0</td>\n",
              "      <td>0</td>\n",
              "      <td>0</td>\n",
              "      <td>0</td>\n",
              "      <td>0</td>\n",
              "      <td>0</td>\n",
              "      <td>0</td>\n",
              "      <td>0</td>\n",
              "      <td>0</td>\n",
              "      <td>0</td>\n",
              "      <td>0</td>\n",
              "      <td>0</td>\n",
              "      <td>0</td>\n",
              "      <td>0</td>\n",
              "      <td>0</td>\n",
              "      <td>0</td>\n",
              "      <td>0</td>\n",
              "      <td>0</td>\n",
              "      <td>0</td>\n",
              "      <td>0</td>\n",
              "      <td>0</td>\n",
              "    </tr>\n",
              "    <tr>\n",
              "      <th>1860</th>\n",
              "      <td>0</td>\n",
              "      <td>0</td>\n",
              "      <td>0</td>\n",
              "      <td>0</td>\n",
              "      <td>0</td>\n",
              "      <td>0</td>\n",
              "      <td>0</td>\n",
              "      <td>0</td>\n",
              "      <td>0</td>\n",
              "      <td>0</td>\n",
              "      <td>0</td>\n",
              "      <td>0</td>\n",
              "      <td>0</td>\n",
              "      <td>0</td>\n",
              "      <td>0</td>\n",
              "      <td>0</td>\n",
              "      <td>0</td>\n",
              "      <td>0</td>\n",
              "      <td>0</td>\n",
              "      <td>0</td>\n",
              "      <td>0</td>\n",
              "      <td>0</td>\n",
              "      <td>0</td>\n",
              "      <td>0</td>\n",
              "      <td>0</td>\n",
              "      <td>0</td>\n",
              "      <td>0</td>\n",
              "      <td>0</td>\n",
              "      <td>0</td>\n",
              "      <td>0</td>\n",
              "      <td>0</td>\n",
              "      <td>0</td>\n",
              "      <td>0</td>\n",
              "      <td>0</td>\n",
              "      <td>0</td>\n",
              "      <td>0</td>\n",
              "      <td>0</td>\n",
              "      <td>0</td>\n",
              "      <td>0</td>\n",
              "      <td>0</td>\n",
              "      <td>...</td>\n",
              "      <td>0</td>\n",
              "      <td>0</td>\n",
              "      <td>0</td>\n",
              "      <td>0</td>\n",
              "      <td>0</td>\n",
              "      <td>0</td>\n",
              "      <td>0</td>\n",
              "      <td>0</td>\n",
              "      <td>0</td>\n",
              "      <td>0</td>\n",
              "      <td>0</td>\n",
              "      <td>0</td>\n",
              "      <td>0</td>\n",
              "      <td>0</td>\n",
              "      <td>0</td>\n",
              "      <td>0</td>\n",
              "      <td>0</td>\n",
              "      <td>0</td>\n",
              "      <td>0</td>\n",
              "      <td>0</td>\n",
              "      <td>0</td>\n",
              "      <td>0</td>\n",
              "      <td>0</td>\n",
              "      <td>0</td>\n",
              "      <td>0</td>\n",
              "      <td>0</td>\n",
              "      <td>0</td>\n",
              "      <td>0</td>\n",
              "      <td>0</td>\n",
              "      <td>0</td>\n",
              "      <td>0</td>\n",
              "      <td>0</td>\n",
              "      <td>0</td>\n",
              "      <td>0</td>\n",
              "      <td>0</td>\n",
              "      <td>0</td>\n",
              "      <td>0</td>\n",
              "      <td>0</td>\n",
              "      <td>0</td>\n",
              "      <td>0</td>\n",
              "    </tr>\n",
              "    <tr>\n",
              "      <th>1861</th>\n",
              "      <td>0</td>\n",
              "      <td>0</td>\n",
              "      <td>0</td>\n",
              "      <td>0</td>\n",
              "      <td>0</td>\n",
              "      <td>0</td>\n",
              "      <td>0</td>\n",
              "      <td>0</td>\n",
              "      <td>0</td>\n",
              "      <td>0</td>\n",
              "      <td>0</td>\n",
              "      <td>0</td>\n",
              "      <td>0</td>\n",
              "      <td>0</td>\n",
              "      <td>0</td>\n",
              "      <td>0</td>\n",
              "      <td>0</td>\n",
              "      <td>0</td>\n",
              "      <td>0</td>\n",
              "      <td>0</td>\n",
              "      <td>0</td>\n",
              "      <td>0</td>\n",
              "      <td>0</td>\n",
              "      <td>0</td>\n",
              "      <td>0</td>\n",
              "      <td>0</td>\n",
              "      <td>0</td>\n",
              "      <td>0</td>\n",
              "      <td>0</td>\n",
              "      <td>0</td>\n",
              "      <td>0</td>\n",
              "      <td>0</td>\n",
              "      <td>0</td>\n",
              "      <td>0</td>\n",
              "      <td>0</td>\n",
              "      <td>0</td>\n",
              "      <td>0</td>\n",
              "      <td>0</td>\n",
              "      <td>0</td>\n",
              "      <td>0</td>\n",
              "      <td>...</td>\n",
              "      <td>0</td>\n",
              "      <td>0</td>\n",
              "      <td>0</td>\n",
              "      <td>0</td>\n",
              "      <td>0</td>\n",
              "      <td>0</td>\n",
              "      <td>0</td>\n",
              "      <td>0</td>\n",
              "      <td>0</td>\n",
              "      <td>0</td>\n",
              "      <td>0</td>\n",
              "      <td>0</td>\n",
              "      <td>0</td>\n",
              "      <td>0</td>\n",
              "      <td>0</td>\n",
              "      <td>0</td>\n",
              "      <td>0</td>\n",
              "      <td>0</td>\n",
              "      <td>0</td>\n",
              "      <td>0</td>\n",
              "      <td>0</td>\n",
              "      <td>0</td>\n",
              "      <td>0</td>\n",
              "      <td>0</td>\n",
              "      <td>0</td>\n",
              "      <td>0</td>\n",
              "      <td>0</td>\n",
              "      <td>0</td>\n",
              "      <td>0</td>\n",
              "      <td>0</td>\n",
              "      <td>0</td>\n",
              "      <td>0</td>\n",
              "      <td>0</td>\n",
              "      <td>0</td>\n",
              "      <td>0</td>\n",
              "      <td>0</td>\n",
              "      <td>0</td>\n",
              "      <td>0</td>\n",
              "      <td>0</td>\n",
              "      <td>0</td>\n",
              "    </tr>\n",
              "    <tr>\n",
              "      <th>1862</th>\n",
              "      <td>0</td>\n",
              "      <td>0</td>\n",
              "      <td>0</td>\n",
              "      <td>0</td>\n",
              "      <td>0</td>\n",
              "      <td>0</td>\n",
              "      <td>0</td>\n",
              "      <td>0</td>\n",
              "      <td>0</td>\n",
              "      <td>0</td>\n",
              "      <td>0</td>\n",
              "      <td>0</td>\n",
              "      <td>0</td>\n",
              "      <td>0</td>\n",
              "      <td>0</td>\n",
              "      <td>0</td>\n",
              "      <td>0</td>\n",
              "      <td>0</td>\n",
              "      <td>0</td>\n",
              "      <td>0</td>\n",
              "      <td>0</td>\n",
              "      <td>0</td>\n",
              "      <td>0</td>\n",
              "      <td>0</td>\n",
              "      <td>0</td>\n",
              "      <td>0</td>\n",
              "      <td>0</td>\n",
              "      <td>0</td>\n",
              "      <td>0</td>\n",
              "      <td>0</td>\n",
              "      <td>0</td>\n",
              "      <td>0</td>\n",
              "      <td>0</td>\n",
              "      <td>0</td>\n",
              "      <td>0</td>\n",
              "      <td>0</td>\n",
              "      <td>0</td>\n",
              "      <td>0</td>\n",
              "      <td>0</td>\n",
              "      <td>0</td>\n",
              "      <td>...</td>\n",
              "      <td>0</td>\n",
              "      <td>0</td>\n",
              "      <td>0</td>\n",
              "      <td>0</td>\n",
              "      <td>0</td>\n",
              "      <td>0</td>\n",
              "      <td>0</td>\n",
              "      <td>0</td>\n",
              "      <td>0</td>\n",
              "      <td>0</td>\n",
              "      <td>0</td>\n",
              "      <td>0</td>\n",
              "      <td>0</td>\n",
              "      <td>0</td>\n",
              "      <td>0</td>\n",
              "      <td>0</td>\n",
              "      <td>0</td>\n",
              "      <td>0</td>\n",
              "      <td>0</td>\n",
              "      <td>0</td>\n",
              "      <td>0</td>\n",
              "      <td>0</td>\n",
              "      <td>0</td>\n",
              "      <td>0</td>\n",
              "      <td>0</td>\n",
              "      <td>0</td>\n",
              "      <td>0</td>\n",
              "      <td>0</td>\n",
              "      <td>0</td>\n",
              "      <td>0</td>\n",
              "      <td>0</td>\n",
              "      <td>0</td>\n",
              "      <td>0</td>\n",
              "      <td>0</td>\n",
              "      <td>0</td>\n",
              "      <td>0</td>\n",
              "      <td>0</td>\n",
              "      <td>0</td>\n",
              "      <td>0</td>\n",
              "      <td>0</td>\n",
              "    </tr>\n",
              "  </tbody>\n",
              "</table>\n",
              "<p>1863 rows × 403977 columns</p>\n",
              "</div>"
            ],
            "text/plain": [
              "      0       1       2       3       ...  403973  403974  403975  403976\n",
              "0          0       0       0       0  ...       0       0       0       0\n",
              "1          0       0       0       0  ...       0       0       0       0\n",
              "2          0       0       0       0  ...       0       0       0       0\n",
              "3          0       0       0       0  ...       0       0       0       0\n",
              "4          0       0       0       0  ...       0       0       0       0\n",
              "...      ...     ...     ...     ...  ...     ...     ...     ...     ...\n",
              "1858       0       0       0       0  ...       0       0       0       0\n",
              "1859       0       0       0       0  ...       0       0       0       0\n",
              "1860       0       0       0       0  ...       0       0       0       0\n",
              "1861       0       0       0       0  ...       0       0       0       0\n",
              "1862       0       0       0       0  ...       0       0       0       0\n",
              "\n",
              "[1863 rows x 403977 columns]"
            ]
          },
          "metadata": {
            "tags": []
          },
          "execution_count": 13
        }
      ]
    },
    {
      "cell_type": "code",
      "metadata": {
        "colab": {
          "base_uri": "https://localhost:8080/"
        },
        "id": "rPC6jPS0N5Pq",
        "outputId": "d59a4504-d971-4718-b0a1-1ebb9713207e"
      },
      "source": [
        "# The dimension of the result sparse matrix is 25*6240\n",
        "csr_matrix.get_shape(trainingset)"
      ],
      "execution_count": null,
      "outputs": [
        {
          "output_type": "execute_result",
          "data": {
            "text/plain": [
              "(1863, 403977)"
            ]
          },
          "metadata": {
            "tags": []
          },
          "execution_count": 12
        }
      ]
    },
    {
      "cell_type": "code",
      "metadata": {
        "colab": {
          "base_uri": "https://localhost:8080/"
        },
        "id": "p1HARrXpVAEi",
        "outputId": "e89bc9ac-1f7f-4bfa-e790-b554873d2909"
      },
      "source": [
        "# implement random forest classifier to train the model\n",
        "randomClassifier = RandomForestClassifier(n_estimators=250, criterion='entropy')\n",
        "randomClassifier.fit(trainingset, train['Label'])"
      ],
      "execution_count": null,
      "outputs": [
        {
          "output_type": "execute_result",
          "data": {
            "text/plain": [
              "RandomForestClassifier(bootstrap=True, ccp_alpha=0.0, class_weight=None,\n",
              "                       criterion='entropy', max_depth=None, max_features='auto',\n",
              "                       max_leaf_nodes=None, max_samples=None,\n",
              "                       min_impurity_decrease=0.0, min_impurity_split=None,\n",
              "                       min_samples_leaf=1, min_samples_split=2,\n",
              "                       min_weight_fraction_leaf=0.0, n_estimators=250,\n",
              "                       n_jobs=None, oob_score=False, random_state=None,\n",
              "                       verbose=0, warm_start=False)"
            ]
          },
          "metadata": {
            "tags": []
          },
          "execution_count": 76
        }
      ]
    },
    {
      "cell_type": "code",
      "metadata": {
        "id": "uRJktDBKOKLZ"
      },
      "source": [
        "# **Predict the test set**\n",
        "\n",
        "test_dataset = test.iloc[:, 2:27]\n",
        "# replace characters except alphabet with blank \n",
        "test_dataset.replace(\"[^a-zA-Z]\", \" \", regex=True, inplace=True)\n",
        "\n",
        "test_dataset.columns = [str(i) for i in [j for j in range(25)]]\n",
        "for i in test_dataset.columns:\n",
        "    test_dataset[i] = test_dataset[i].str.lower()\n",
        "\n",
        "test_totalheads =[]\n",
        "for i in range(0, len(test_dataset.index)):\n",
        "    test_totalheads.append(' '.join(str(j) for j in test_dataset.iloc[i, 0:25]))\n"
      ],
      "execution_count": null,
      "outputs": []
    },
    {
      "cell_type": "code",
      "metadata": {
        "id": "WeogcMbrU6Kd"
      },
      "source": [
        "testingset = cv.transform(test_totalheads)\n",
        "test_predictions = randomClassifier.predict(testingset)"
      ],
      "execution_count": null,
      "outputs": []
    },
    {
      "cell_type": "code",
      "metadata": {
        "colab": {
          "base_uri": "https://localhost:8080/"
        },
        "id": "R8DRdlNTXCcb",
        "outputId": "70b15acf-1ca6-46ff-803c-811194ee728e"
      },
      "source": [
        "len(test_predictions)"
      ],
      "execution_count": null,
      "outputs": [
        {
          "output_type": "execute_result",
          "data": {
            "text/plain": [
              "378"
            ]
          },
          "metadata": {
            "tags": []
          },
          "execution_count": 92
        }
      ]
    },
    {
      "cell_type": "code",
      "metadata": {
        "colab": {
          "base_uri": "https://localhost:8080/"
        },
        "id": "12jANaCAZZEP",
        "outputId": "70d3f4a8-e942-46f3-e3da-3d2e399f2f3b"
      },
      "source": [
        "matrix = confusion_matrix(test['Label'], test_predictions)\n",
        "print(matrix)\n",
        "score = accuracy_score(test['Label'], test_predictions)\n",
        "print(score)\n",
        "report = classification_report(test['Label'], test_predictions)\n",
        "print(report)"
      ],
      "execution_count": null,
      "outputs": [
        {
          "output_type": "stream",
          "text": [
            "[[131  55]\n",
            " [  2 190]]\n",
            "0.8492063492063492\n",
            "              precision    recall  f1-score   support\n",
            "\n",
            "           0       0.98      0.70      0.82       186\n",
            "           1       0.78      0.99      0.87       192\n",
            "\n",
            "    accuracy                           0.85       378\n",
            "   macro avg       0.88      0.85      0.85       378\n",
            "weighted avg       0.88      0.85      0.85       378\n",
            "\n"
          ],
          "name": "stdout"
        }
      ]
    },
    {
      "cell_type": "code",
      "metadata": {
        "id": "zDtFRg5cZzoq"
      },
      "source": [
        "tfidf_v = TfidfVectorizer(ngram_range=(2, 2))\n",
        "\n",
        "tfidf_trainingset = tfidf_v.fit_transform(totalheads)\n",
        "\n",
        "tftdf_randomClassifier = RandomForestClassifier(n_estimators=250, criterion='entropy')\n",
        "tftdf_randomClassifier.fit(tfidf_trainingset, train['Label'])\n",
        "\n",
        "tfidf_testingset = tfidf_v.transform(test_totalheads)\n",
        "tfidf_test_predictions = tftdf_randomClassifier.predict(tfidf_testingset)"
      ],
      "execution_count": null,
      "outputs": []
    },
    {
      "cell_type": "code",
      "metadata": {
        "colab": {
          "base_uri": "https://localhost:8080/"
        },
        "id": "fHTSD3jrdtID",
        "outputId": "33959c82-7e03-45f4-fa12-5277cd7cd16b"
      },
      "source": [
        "tfidf_matrix = confusion_matrix(test['Label'], tfidf_test_predictions)\n",
        "print(tfidf_matrix)\n",
        "tfidf_score = accuracy_score(test['Label'], tfidf_test_predictions)\n",
        "print(tfidf_score)\n",
        "tfidf_report = classification_report(test['Label'], tfidf_test_predictions)\n",
        "print(tfidf_report)"
      ],
      "execution_count": null,
      "outputs": [
        {
          "output_type": "stream",
          "text": [
            "[[145  41]\n",
            " [ 13 179]]\n",
            "0.8571428571428571\n",
            "              precision    recall  f1-score   support\n",
            "\n",
            "           0       0.92      0.78      0.84       186\n",
            "           1       0.81      0.93      0.87       192\n",
            "\n",
            "    accuracy                           0.86       378\n",
            "   macro avg       0.87      0.86      0.86       378\n",
            "weighted avg       0.86      0.86      0.86       378\n",
            "\n"
          ],
          "name": "stdout"
        }
      ]
    },
    {
      "cell_type": "code",
      "metadata": {
        "colab": {
          "base_uri": "https://localhost:8080/"
        },
        "id": "LsPttPOVtX8w",
        "outputId": "bdc2d14b-7c0c-4d36-85a3-57814b0bfd32"
      },
      "source": [
        "# **Use Naive Bayes classifier\n",
        "naive = MultinomialNB()\n",
        "naive.fit(trainingset, train['Label'])\n",
        "\n",
        "naive_predictions = naive.predict(testingset)"
      ],
      "execution_count": null,
      "outputs": [
        {
          "output_type": "execute_result",
          "data": {
            "text/plain": [
              "array([1, 0, 0, 1, 1, 0, 0, 0, 0, 0, 1, 1, 1, 1, 0, 1, 0, 0, 1, 0, 1, 1,\n",
              "       1, 1, 0, 0, 1, 0, 1, 1, 1, 0, 0, 1, 0, 1, 1, 0, 0, 1, 0, 0, 1, 0,\n",
              "       1, 0, 0, 1, 0, 1, 0, 1, 0, 1, 0, 0, 0, 0, 1, 1, 0, 0, 1, 1, 0, 1,\n",
              "       1, 1, 0, 1, 1, 0, 0, 1, 0, 1, 1, 1, 0, 1, 0, 0, 1, 1, 0, 0, 1, 1,\n",
              "       0, 0, 0, 1, 1, 1, 1, 0, 1, 0, 0, 1, 0, 0, 1, 0, 1, 0, 0, 0, 0, 1,\n",
              "       1, 0, 0, 1, 1, 1, 0, 1, 1, 0, 0, 1, 0, 1, 1, 0, 0, 1, 0, 1, 1, 1,\n",
              "       1, 0, 1, 0, 1, 0, 0, 0, 0, 0, 1, 1, 0, 0, 0, 0, 0, 0, 0, 1, 0, 0,\n",
              "       1, 1, 1, 0, 0, 0, 0, 0, 0, 1, 1, 0, 0, 0, 1, 1, 0, 1, 0, 1, 1, 0,\n",
              "       1, 1, 0, 0, 1, 0, 0, 0, 1, 0, 1, 1, 0, 1, 1, 1, 1, 1, 1, 1, 0, 0,\n",
              "       1, 1, 1, 0, 0, 1, 1, 0, 0, 1, 0, 0, 1, 1, 0, 0, 1, 0, 1, 0, 0, 0,\n",
              "       1, 1, 1, 0, 1, 0, 1, 1, 0, 0, 1, 0, 0, 1, 0, 0, 0, 1, 0, 1, 1, 1,\n",
              "       0, 0, 1, 1, 1, 0, 0, 1, 0, 0, 1, 1, 1, 1, 1, 1, 0, 1, 0, 1, 0, 1,\n",
              "       1, 1, 0, 1, 1, 1, 1, 1, 1, 1, 1, 1, 0, 0, 1, 1, 1, 1, 1, 1, 0, 0,\n",
              "       1, 1, 0, 0, 1, 1, 1, 1, 1, 1, 1, 1, 1, 0, 0, 1, 1, 0, 1, 1, 1, 1,\n",
              "       1, 1, 1, 1, 1, 0, 1, 1, 1, 0, 1, 0, 1, 0, 1, 0, 1, 0, 1, 1, 1, 1,\n",
              "       1, 0, 1, 1, 0, 1, 0, 1, 1, 0, 1, 1, 1, 1, 1, 0, 1, 1, 1, 0, 1, 1,\n",
              "       1, 1, 1, 1, 1, 1, 1, 1, 1, 1, 1, 1, 1, 1, 0, 1, 0, 1, 1, 0, 1, 1,\n",
              "       1, 1, 1, 1])"
            ]
          },
          "metadata": {
            "tags": []
          },
          "execution_count": 101
        }
      ]
    },
    {
      "cell_type": "code",
      "metadata": {
        "colab": {
          "base_uri": "https://localhost:8080/"
        },
        "id": "TauuRvtotugG",
        "outputId": "5ffa1e00-3e93-4fe9-f695-f5fa4f9b97eb"
      },
      "source": [
        "naive_matrix = confusion_matrix(test['Label'], naive_predictions)\n",
        "print(naive_matrix)\n",
        "naive_score = accuracy_score(test['Label'], naive_predictions)\n",
        "print(naive_score)\n",
        "naive_report = classification_report(test['Label'], naive_predictions)\n",
        "print(naive_report)"
      ],
      "execution_count": null,
      "outputs": [
        {
          "output_type": "stream",
          "text": [
            "[[142  44]\n",
            " [ 16 176]]\n",
            "0.8412698412698413\n",
            "              precision    recall  f1-score   support\n",
            "\n",
            "           0       0.90      0.76      0.83       186\n",
            "           1       0.80      0.92      0.85       192\n",
            "\n",
            "    accuracy                           0.84       378\n",
            "   macro avg       0.85      0.84      0.84       378\n",
            "weighted avg       0.85      0.84      0.84       378\n",
            "\n"
          ],
          "name": "stdout"
        }
      ]
    },
    {
      "cell_type": "code",
      "metadata": {
        "colab": {
          "base_uri": "https://localhost:8080/"
        },
        "id": "uRR84hxLt2-S",
        "outputId": "e4feac1b-9dae-4acb-cf7f-56f9bab98a30"
      },
      "source": [
        "naive = MultinomialNB()\n",
        "naive.fit(tfidf_trainingset, train['Label'])\n",
        "\n",
        "naive_tfidf_predictions = naive.predict(tfidf_testingset)\n",
        "\n",
        "tfidf_naive_matrix = confusion_matrix(test['Label'], naive_tfidf_predictions)\n",
        "print(tfidf_naive_matrix)\n",
        "tfidf_naive_score = accuracy_score(test['Label'], naive_tfidf_predictions)\n",
        "print(tfidf_naive_score)\n",
        "tfidf_naive_report = classification_report(test['Label'], naive_tfidf_predictions)\n",
        "print(tfidf_naive_report)"
      ],
      "execution_count": null,
      "outputs": [
        {
          "output_type": "stream",
          "text": [
            "[[130  56]\n",
            " [  0 192]]\n",
            "0.8518518518518519\n",
            "              precision    recall  f1-score   support\n",
            "\n",
            "           0       1.00      0.70      0.82       186\n",
            "           1       0.77      1.00      0.87       192\n",
            "\n",
            "    accuracy                           0.85       378\n",
            "   macro avg       0.89      0.85      0.85       378\n",
            "weighted avg       0.89      0.85      0.85       378\n",
            "\n"
          ],
          "name": "stdout"
        }
      ]
    },
    {
      "cell_type": "markdown",
      "metadata": {
        "id": "BTUsqBV_trIj"
      },
      "source": [
        "# Neural Network \n",
        "\n"
      ]
    },
    {
      "cell_type": "markdown",
      "metadata": {
        "id": "K6-ioKNcUWjC"
      },
      "source": [
        "## Prepare Dataset for Neural Network"
      ]
    },
    {
      "cell_type": "code",
      "metadata": {
        "id": "cNMf9PjX-zFw"
      },
      "source": [
        "df = pd.read_csv('/content/drive/MyDrive/Combined_News_DJIA.csv')"
      ],
      "execution_count": 51,
      "outputs": []
    },
    {
      "cell_type": "code",
      "metadata": {
        "id": "29tEzyxnE3U0"
      },
      "source": [
        "#Return clean train, test dataset\n",
        "def preprocess(name):\n",
        "  #extract only the top 25 titles\n",
        "  text = name.iloc[:, 2:27]\n",
        "  other = name.iloc[:, :2]\n",
        "\n",
        "  # replace characters except alphabet with blank \n",
        "  text.replace(\"[^a-zA-Z]\", \" \", regex=True, inplace=True)\n",
        "  text.replace(\"b\", \" \", regex=True, inplace=True) # there is b in the front of the text, which is meaningless\n",
        "  text.columns = [str(i) for i in [j for j in range(25)]]\n",
        "  for i in text.columns:\n",
        "    text[i] = text[i].str.lower()\n",
        "  totalheads = []\n",
        "  for row in range(0, len(text.index)):\n",
        "    totalheads.append(' '.join(str(j) for j in text.iloc[row, 0:25]))\n",
        "  clean_text = pd.DataFrame(totalheads,columns=['Text'])\n",
        "\n",
        "  #train, test split\n",
        "  df = pd.concat([clean_text, other], axis=1)\n",
        "  train =  df[df['Date'] < '20150101']\n",
        "  test = test = df[df['Date'] > '20141231']\n",
        "\n",
        "  #drop unnecessary cloumns\n",
        "  train = train.drop(columns='Date')\n",
        "  test = test.drop(columns=['Date'])\n",
        "\n",
        "  #save to csv file\n",
        "  train.to_csv(\"train.csv\", index=False)\n",
        "  test.to_csv(\"test.csv\", index=False) \n",
        "\n",
        "  return train, test"
      ],
      "execution_count": 52,
      "outputs": []
    },
    {
      "cell_type": "code",
      "metadata": {
        "id": "NEQ9QevpJu9e"
      },
      "source": [
        "train, test = preprocess(df)"
      ],
      "execution_count": 53,
      "outputs": []
    },
    {
      "cell_type": "code",
      "metadata": {
        "colab": {
          "base_uri": "https://localhost:8080/",
          "height": 419
        },
        "id": "k81_egtzdVjk",
        "outputId": "f3258e84-e667-41ec-bd46-2ce08d38a260"
      },
      "source": [
        "train"
      ],
      "execution_count": 54,
      "outputs": [
        {
          "output_type": "execute_result",
          "data": {
            "text/html": [
              "<div>\n",
              "<style scoped>\n",
              "    .dataframe tbody tr th:only-of-type {\n",
              "        vertical-align: middle;\n",
              "    }\n",
              "\n",
              "    .dataframe tbody tr th {\n",
              "        vertical-align: top;\n",
              "    }\n",
              "\n",
              "    .dataframe thead th {\n",
              "        text-align: right;\n",
              "    }\n",
              "</style>\n",
              "<table border=\"1\" class=\"dataframe\">\n",
              "  <thead>\n",
              "    <tr style=\"text-align: right;\">\n",
              "      <th></th>\n",
              "      <th>Text</th>\n",
              "      <th>Label</th>\n",
              "    </tr>\n",
              "  </thead>\n",
              "  <tbody>\n",
              "    <tr>\n",
              "      <th>0</th>\n",
              "      <td>georgia  downs two russian warplanes  as cou...</td>\n",
              "      <td>0</td>\n",
              "    </tr>\n",
              "    <tr>\n",
              "      <th>1</th>\n",
              "      <td>why wont america and nato help us  if they w...</td>\n",
              "      <td>1</td>\n",
              "    </tr>\n",
              "    <tr>\n",
              "      <th>2</th>\n",
              "      <td>remem er that adora le   year old who sang a...</td>\n",
              "      <td>0</td>\n",
              "    </tr>\n",
              "    <tr>\n",
              "      <th>3</th>\n",
              "      <td>u s  refuses israel weapons to attack iran ...</td>\n",
              "      <td>0</td>\n",
              "    </tr>\n",
              "    <tr>\n",
              "      <th>4</th>\n",
              "      <td>all the experts admit that we should legalis...</td>\n",
              "      <td>1</td>\n",
              "    </tr>\n",
              "    <tr>\n",
              "      <th>...</th>\n",
              "      <td>...</td>\n",
              "      <td>...</td>\n",
              "    </tr>\n",
              "    <tr>\n",
              "      <th>1858</th>\n",
              "      <td>brazil declares emergency after        a ies a...</td>\n",
              "      <td>0</td>\n",
              "    </tr>\n",
              "    <tr>\n",
              "      <th>1859</th>\n",
              "      <td>germany recruits       teachers to teach germa...</td>\n",
              "      <td>0</td>\n",
              "    </tr>\n",
              "    <tr>\n",
              "      <th>1860</th>\n",
              "      <td>pentagon thwarts o ama s effort to close guant...</td>\n",
              "      <td>1</td>\n",
              "    </tr>\n",
              "    <tr>\n",
              "      <th>1861</th>\n",
              "      <td>tech companies face criminal charges if they n...</td>\n",
              "      <td>0</td>\n",
              "    </tr>\n",
              "    <tr>\n",
              "      <th>1862</th>\n",
              "      <td>microsoft corp said on wednesday it will  egin...</td>\n",
              "      <td>0</td>\n",
              "    </tr>\n",
              "  </tbody>\n",
              "</table>\n",
              "<p>1863 rows × 2 columns</p>\n",
              "</div>"
            ],
            "text/plain": [
              "                                                   Text  Label\n",
              "0       georgia  downs two russian warplanes  as cou...      0\n",
              "1       why wont america and nato help us  if they w...      1\n",
              "2       remem er that adora le   year old who sang a...      0\n",
              "3        u s  refuses israel weapons to attack iran ...      0\n",
              "4       all the experts admit that we should legalis...      1\n",
              "...                                                 ...    ...\n",
              "1858  brazil declares emergency after        a ies a...      0\n",
              "1859  germany recruits       teachers to teach germa...      0\n",
              "1860  pentagon thwarts o ama s effort to close guant...      1\n",
              "1861  tech companies face criminal charges if they n...      0\n",
              "1862  microsoft corp said on wednesday it will  egin...      0\n",
              "\n",
              "[1863 rows x 2 columns]"
            ]
          },
          "metadata": {
            "tags": []
          },
          "execution_count": 54
        }
      ]
    },
    {
      "cell_type": "code",
      "metadata": {
        "id": "PFfo0lbz-8D8"
      },
      "source": [
        "# function for loading the dataset for neural network\n",
        "def load_dataset():\n",
        "    # Field\n",
        "    tokenizer = nltk.word_tokenize # use nltk tokenizer\n",
        "    TEXT = data.Field(sequential=True, tokenize= tokenizer, lower=True,\n",
        "                      include_lengths=True, batch_first=True, fix_length = FIX_LEN) # padding: fix len at 350\n",
        "    LABEL = data.Field(sequential=False, use_vocab=False)\n",
        "    field = [('Text',TEXT),('Label',LABEL)]\n",
        "\n",
        "    # prepare Dataset by TabularDataset\n",
        "    train = data.TabularDataset(path=os.path.join('/content/train.csv'),skip_header = True, fields = field, format='csv')\n",
        "    test = data.TabularDataset(path=os.path.join('/content/test.csv'),skip_header = True, fields = field, format='csv')\n",
        "\n",
        "    # use the built-in word embedding vector from glove, and change the word to vector\n",
        "    TEXT.build_vocab(train, vectors = 'glove.6B.100d') \n",
        "\n",
        "    #create the iterator for train and test data, sort by the length of the text\n",
        "    train_iter, test_iter = data.BucketIterator.splits((train, test),\n",
        "                                                                   batch_size= BATCH_SIZE, sort_key=lambda x: len(x.Text),       \n",
        "                                                                    repeat=False, shuffle=True)\n",
        "    #how many words are there in our dictionary\n",
        "    vocab_size = len(TEXT.vocab)\n",
        "\n",
        "    return TEXT, vocab_size, train_iter, test_iter"
      ],
      "execution_count": 55,
      "outputs": []
    },
    {
      "cell_type": "code",
      "metadata": {
        "id": "3rBxeZ6VTzYw"
      },
      "source": [
        "#try out batch size 128 and fix_len 350\n",
        "BATCH_SIZE = 128\n",
        "FIX_LEN = 350\n",
        "\n",
        "TEXT, vocab_size, train_iter, test_iter = load_dataset()"
      ],
      "execution_count": 69,
      "outputs": []
    },
    {
      "cell_type": "code",
      "metadata": {
        "colab": {
          "base_uri": "https://localhost:8080/"
        },
        "id": "YLQf8oZzeFio",
        "outputId": "3b0736ec-8549-49cf-b794-0accfffff605"
      },
      "source": [
        "#check out dictionary\n",
        "print(TEXT.vocab.itos[149])\n",
        "print(TEXT.vocab.stoi['canada'])\n",
        "print(TEXT.vocab.vectors.shape) # 31779 words, each with vector size[100]\n",
        "word_vec = TEXT.vocab.vectors[TEXT.vocab.stoi['canada']]\n",
        "print(word_vec.shape) # the vector for each word\n",
        "print(word_vec) # check out the vector for word 'canada'"
      ],
      "execution_count": 70,
      "outputs": [
        {
          "output_type": "stream",
          "text": [
            "canada\n",
            "149\n",
            "torch.Size([31779, 100])\n",
            "torch.Size([100])\n",
            "tensor([ 0.0996, -0.2813,  0.9530,  0.1828,  0.8959, -1.0048, -0.3454,  0.7001,\n",
            "        -0.7676, -0.8985, -0.4462, -0.2685, -0.2512,  0.5975, -0.2367, -0.2014,\n",
            "         0.1259,  0.0571, -0.8194,  0.0179,  0.4273,  0.9192,  1.1675,  0.4040,\n",
            "         0.3243, -0.1326,  0.6364, -0.4570,  0.6580,  0.1798, -0.3361,  1.2086,\n",
            "        -0.3304,  0.1221,  0.5763, -0.1456, -0.0463,  0.2032, -0.6654, -0.8280,\n",
            "        -0.3369, -0.2844, -0.4335, -0.3685,  0.1897,  0.3234,  0.4065, -0.5181,\n",
            "         0.2566, -0.4992,  0.2617,  0.7306, -0.3528,  0.2972, -0.8281, -2.1109,\n",
            "         0.1968, -0.4982,  1.5197,  0.5484,  0.2063, -0.2859,  0.3353,  0.0404,\n",
            "         0.8091,  0.1954, -0.8141,  0.6566,  0.8651,  0.2246, -0.0467, -0.2651,\n",
            "        -0.7146,  0.3364,  0.4779,  0.0713,  0.4470, -0.2588, -0.9935,  0.0943,\n",
            "        -0.1735,  0.2591,  0.4219,  0.0713, -0.2608, -0.5971, -0.0313,  0.3093,\n",
            "        -0.0319,  0.2051,  0.0519, -0.6277, -0.0257, -0.0917, -0.9701,  0.3304,\n",
            "        -0.9146,  0.1456,  0.3408, -0.4816])\n"
          ],
          "name": "stdout"
        }
      ]
    },
    {
      "cell_type": "code",
      "metadata": {
        "colab": {
          "base_uri": "https://localhost:8080/"
        },
        "id": "EwlVK8RoiBby",
        "outputId": "d533f21c-f1b4-4e68-bb19-e01894abab18"
      },
      "source": [
        "batch = next(iter(train_iter)) \n",
        "batch = next(iter(train_iter))# second batch\n",
        "text = batch.Text[0]\n",
        "label = batch.Label\n",
        "print(label)\n",
        "print(torch.autograd.Variable(label).long())\n",
        "print(text)\n",
        "print(text.shape) # should be [128, 350] , which is batch size and fixed_length\n",
        "print(label)\n",
        "print(label.shape)\n",
        "print(label.size(0))"
      ],
      "execution_count": 71,
      "outputs": [
        {
          "output_type": "stream",
          "text": [
            "tensor([0, 1, 1, 0, 0, 0, 0, 0, 1, 0, 1, 0, 0, 1, 0, 1, 0, 1, 0, 0, 0, 0, 1, 0,\n",
            "        0, 0, 0, 1, 0, 0, 0, 0, 1, 0, 0, 1, 1, 1, 1, 0, 0, 1, 0, 0, 0, 0, 0, 1,\n",
            "        1, 0, 1, 0, 0, 0, 0, 1, 0, 0, 0, 1, 0, 1, 0, 0, 1, 1, 0, 1, 1, 1, 1, 1,\n",
            "        0, 0, 1, 1, 0, 1, 1, 1, 0, 1, 0, 1, 1, 1, 0, 1, 1, 0, 0, 1, 1, 1, 1, 1,\n",
            "        1, 1, 1, 1, 0, 1, 0, 0, 0, 0, 1, 1, 1, 1, 1, 1, 1, 1, 1, 0, 1, 1, 1, 1,\n",
            "        1, 1, 1, 0, 0, 1, 0, 1])\n",
            "tensor([0, 1, 1, 0, 0, 0, 0, 0, 1, 0, 1, 0, 0, 1, 0, 1, 0, 1, 0, 0, 0, 0, 1, 0,\n",
            "        0, 0, 0, 1, 0, 0, 0, 0, 1, 0, 0, 1, 1, 1, 1, 0, 0, 1, 0, 0, 0, 0, 0, 1,\n",
            "        1, 0, 1, 0, 0, 0, 0, 1, 0, 0, 0, 1, 0, 1, 0, 0, 1, 1, 0, 1, 1, 1, 1, 1,\n",
            "        0, 0, 1, 1, 0, 1, 1, 1, 0, 1, 0, 1, 1, 1, 0, 1, 1, 0, 0, 1, 1, 1, 1, 1,\n",
            "        1, 1, 1, 1, 0, 1, 0, 0, 0, 0, 1, 1, 1, 1, 1, 1, 1, 1, 1, 0, 1, 1, 1, 1,\n",
            "        1, 1, 1, 0, 0, 1, 0, 1])\n",
            "tensor([[ 108, 1655, 2579,  ..., 4171,   10,  879],\n",
            "        [  80,  320,   17,  ...,    7,  439,    5],\n",
            "        [ 122, 1412, 2600,  ...,  375,    3,   84],\n",
            "        ...,\n",
            "        [ 141,  124,  212,  ..., 1399,  813,    9],\n",
            "        [  96,    8,  198,  ...,  520,   26,  431],\n",
            "        [   6,  187,    5,  ...,  172, 4271, 2065]])\n",
            "torch.Size([128, 350])\n",
            "tensor([0, 1, 1, 0, 0, 0, 0, 0, 1, 0, 1, 0, 0, 1, 0, 1, 0, 1, 0, 0, 0, 0, 1, 0,\n",
            "        0, 0, 0, 1, 0, 0, 0, 0, 1, 0, 0, 1, 1, 1, 1, 0, 0, 1, 0, 0, 0, 0, 0, 1,\n",
            "        1, 0, 1, 0, 0, 0, 0, 1, 0, 0, 0, 1, 0, 1, 0, 0, 1, 1, 0, 1, 1, 1, 1, 1,\n",
            "        0, 0, 1, 1, 0, 1, 1, 1, 0, 1, 0, 1, 1, 1, 0, 1, 1, 0, 0, 1, 1, 1, 1, 1,\n",
            "        1, 1, 1, 1, 0, 1, 0, 0, 0, 0, 1, 1, 1, 1, 1, 1, 1, 1, 1, 0, 1, 1, 1, 1,\n",
            "        1, 1, 1, 0, 0, 1, 0, 1])\n",
            "torch.Size([128])\n",
            "128\n"
          ],
          "name": "stdout"
        }
      ]
    },
    {
      "cell_type": "code",
      "metadata": {
        "id": "mD7zix__LjE9",
        "colab": {
          "base_uri": "https://localhost:8080/"
        },
        "outputId": "570a09ac-136e-469e-f69b-6e1ac9909c2e"
      },
      "source": [
        "#check the news in the train iterator \n",
        "for idx, batch in enumerate(train_iter): # text in same batch will have same length after padding\n",
        "    text = batch.Text[0]\n",
        "    num = text.shape[0]\n",
        "    length = text.shape[1]\n",
        "    print(idx+1,'th Batch')\n",
        "    print(\"Number of news in batch: \", num)\n",
        "    print(\"Text size after padding: \", length) # should always be 350\n",
        "    for itr in range(3): # fisrt 3news in the bacth\n",
        "       texts = []\n",
        "       arr = text[itr]\n",
        "       for element in arr: #element is torchtensor(number)\n",
        "            texts.append(TEXT.vocab.itos[element])\n",
        "       print('News: ', ' '.join(texts))\n",
        "    if(idx+1 > 1): # show the first two batch\n",
        "      break;"
      ],
      "execution_count": 74,
      "outputs": [
        {
          "output_type": "stream",
          "text": [
            "1 th Batch\n",
            "Number of news in batch:  128\n",
            "Text size after padding:  350\n",
            "News:  most cases of cancer are the result of sheer ad luck rather than unhealthy lifestyles diet or even inherited genes new research suggests random mutations that occur in dna when cells divide are responsi le for two thirds of adult cancers across a wide range of tissues iran dismissed united states efforts to fight islamic state as a ploy to advance u s policies in the region the reality is that the united states is not acting to eliminate daesh they are not even interested in weakening daesh they are only interested in managing it poll one in germans would join anti muslim marches uk royal family s prince andrew named in us lawsuit over underage sex allegations some asylum seekers refused to leave the us when they arrived at their destination in rural northern sweden demanding that they e taken ack to malm or some ig city pakistani oat lows self up after india navy chase all four people on oard the vessel from near the pakistani port city of karachi are elieved to have een killed in the dramatic episode in the ara ian sea on new year s eve according to india s defence ministry sweden hit y third mosque arson attack in a week cars set alight during french new year salaries for top ceos rose twice as fast as average canadian since recession study norway violated equal pay law judge says judge finds consulate employee was unjustly paid less than her male counterpart imam wants radical recruiters of muslim youth in canada identified and dealt with saudi ara ia eheaded people in the most in years a living hell for slaves on remote south korean islands slavery thrives on this chain of rural islands off south korea s rugged southwest coast nurtured y a long history of exploitation and the demands of trying to squeeze a living from the sea worlds richest get richer adding n in rental car stereos infringe copyright music rights group says ukrainian minister threatens tv channel with closure for airing russian entertainers palestinian president mahmoud a as has entered into\n",
            "News:  mem ers of a u n peacekeeping mission engaged in transactional sex with more than haitian women who said they needed to do so to o tain things like food and medication a sign that sexual exploitation remains significantly underreported in such missions history has been made female genital mutilation banned in nigeria imf data shows iceland s economy recovered after it imprisoned ankers and let anks go ust instead of ailing them out the iggest leak in polish history thousands of pages of top secret documents from the tapes affair pu lished on face ook y a polish usinessman relentlessly fighting with corrupt authorities richard branson grants new fathers at virgin up to months paternity on full pay european parliament ttip vote cancelled ecause of huge pu lic pressure canadian spy bill c passed y senate despite widespread pu lic opposition humans to have sex in space for the first time saudi ara ia is to lift laws that an women from travelling without a man s permission ontario first in north america to cur ee killing neonicotinoid pesticides australian and new zealand medicine to cost more and healthcare will suffer under tpp according to wikileaks documents in inuit children were taken from their homes y the danish government in order to serve in a social experiment decades later they demand the apology they were never given isis s dirty om jihadists have seized enough radioactive material to uild their first wmd in a major shift of strategy in iraq the o ama administration is planning to esta lish a new military ase in an ar province and send hundreds of additional american military trainers to help iraqi forces retake the city of ramadi and repel the islamic state the secretive bilder erg group is ringing together the world s financial and political elite this week nasa released a ton of data to help developing nations prepare for glo al warming amnesty international calls on o ama to drop charges against edward snowden fake mo ile phone towers operating in the uk glitch at the international space station on\n",
            "News:  pope francis says catholic church too o sessed with a ortion gay marriage and contraception australia s new prime minister tony a ott has just dissolved the climate commission as part of his stance a out climate change eing eing a false idea syria just ecame a three way war islamist re els attack non islamist re els pope francis says the church should e home for all and not a small chapel focused on doctrine orthodoxy and a limited agenda of moral teachings amazing scenes across greece and in athens a large anarchist antifascist lock of people is heading towards golden dawns offices in nikaia golden dawns offices are eing smashed people are chanting the lood is running it seeks revenge hiroshi yamauchi former nintendo president who transformed a small playing cards company into a glo al video game giant has died at turkish government hiring young twitter users to post propaganda greece moves to an far right golden dawn party canadian scientists push campaign for evidence ased decision making from government evangelist pat ro ertson exploited post genocide rwandans for diamonds netflix exec canadas road and caps almost a human rights violation it s just harmless fun says terrifying clown who has een stalking an english town for a week in the netherlands today local isps are arguing that not only is dns and ip address locking oth disproportionate and ineffective ut denies su scri ers free access to information and runs counter to an eu ruling against filtering the internet developer destruction of pre inca pyramid goes unpunished i was desperate amp clim ed the hill to tell the watchman to call the police when it happened i felt a deep pain as this is part of my country they are destroying my identity my culture amp this is an act of treason against our nation tens of millions of elderly chinese are eing left ehind y the countrys transformation suffering poverty illness and depression it has ecome such a serious pro lem that the chinese government put into effect a law allowing parents to sue their\n",
            "2 th Batch\n",
            "Number of news in batch:  128\n",
            "Text size after padding:  350\n",
            "News:  peru has anned gm crops production for years protester anned from flight home for christmas after he was found carrying anarchist literature japan way ahead in glo al plastic recycling race at country s plastic recycling rate is a out twice that of the uk amp well a ove the figure for the us saudi women no longer need male ok to vote or seek office nuclear su marine on fire in northern russia france approves soda tax france s top constitutional ody on wednesday approved a new tax on sugary drinks that aims to fight o esity while giving a oost to state coffers kim jong un declared n korea s supreme leader china lays out year space plans there will be no friday this week in samoa iran plans to test advanced missiles intelligent torpedoes egypt police raid u s ased pro democracy groups israel denies immigrant status to jews suffering from psychiatric pro lems either your phone plays tali an ringtones or you die vendors in ka ul are doing a risk trade in tali an ringtones because afghans report that the tali an kill travelers at clandestine checkpoints if they dont hear one of their messages on someones phone the plane that would bom iran any adversary knows that the b can enter relatively unseen with the power and accuracy to destroy merely y having the b we can etter influence the decision making process in rogue nations it s a diplomatic instrument as much as it is a military instrument a judge in chile has closed the case on the death of president salvador allende after an authoritative autopsy confirmed it was suicide all eyes on german renewa le energy efforts this tiny village of gray homes amp farm uildings clustered along the main road in a wind swept corner of rural eastern germany seems an unlikely place for a revolution appears japanese tsunami de ris already hitting b c shores beachcom ers are noticing a significant uptick in de ris of japanese origin a sign that items swept out to sea y the tsunami\n",
            "News:  tapes descri e u s servicemen killing civilians for sport since people killed as a result of the israel palestine conflict palestinians and israelis israeli court recognizes jewish pre property deed in east jerusalem allowing for the legal eviction of dozens of palestinian families who will e replaced y jewish families russia is exporting tons of mammoth ivory to china per year and scientists estimate there is plenty more where that came from more israelis have een killed in car accidents than in all of the countrys wars com ined parents of soldier say they warned army a out thrill kill sergeant abc news aid ship carrying eight jewish activists from europe israel and the us was seized y israeli navy off the coast of gaza since over people have died as the result of the drug war in mexico settlement freeze it was arely a slowdown what took place in the past few months is in the est case scenario not more than a negligi le decrease in the num er of housing units that were uilt in settlements by dror etkes taser firm that supplies weapons to uk police forces had its licence revoked for supplying unauthorized weapons to cops in the stand off with gunman raoul moat russian president dmitry medvedev on tuesday a ruptly sacked veteran moscow mayor yuri luzhkov a powerful political opponent who criticized the kremlin and then defied pressure to resign continent of fear the rise of europe s right wing populists tony blair received early torture warning court told a dutch woman guerilla chick is thought to have een killed in last wednesday s colom ian army raid on a farc camp pakistan has lodged a protest with nato after forces killed more than insurgents in a rare cross order air raid north korea s kim jong il appoints son kim jong un to a four star genearl fueling speculation he ll lead next mexico landslide uries hundreds of homes people feared dead or injured acs law could face fine for porn list leak people s repu lic of china threatens no\n",
            "News:  uk bans make up advertisements for eing misleading if you devote your life to spewing anti islamic hatred you should not e surprised if someone comes along and kills in the name of that hatred in fact you should expect it anonymous launches operation to turn breivik into a joke if convicted anders behring breivik could e sent to this norwegian prison the most humane in the world a new way to fight mexico s vicious cartels legalizing marijuana north korea has forced college students into construction la or without proper meals even though there is no manpower shortage bravo uk l oral s julia ro erts and christy turlington ad campaigns anned for excessive air rushing norways prime minister said extremist views are legitimate ut violence is not star wars prop maker wins copyright attle with lucas north korea demands peace treaty with the us buddhists arm themselves against thailand s islamic insurgency un recognises glo al ody for homosexuals gays and les ians granted consultative status at world ody amid opposition from african and islamic countries main lesson from the murdoch scandal corporate conglomerate power run unregulated causes great pu lic harm and lacks the checks and alances required for there to e any accounta ility japanese police practice arresting protesters to prepare for towns upcoming dolphin hunts ex berlusconi minister defends anders behring breivik northern league mem er says norwegian killer s ideas are in defence of western civilisation a year old man has een arrested in the shetland islands as part of an investigation into hacking groups anonymous and lulzsec uk murdoch given secret defence riefings had meetings with gov ministers in current ca inet over times ally of berlusconi says norway killer had some excellent ideas piers morgan admits dodgy journalistic practices in bbc interview chinese police have quelled a mass riot sparked y rumours that a disa led fruit seller had een eaten to death y local officials lawrence summers on the euro crisis there is no politician who will ignore the laws of physics when uilding a ridge but there is a tendency\n"
          ],
          "name": "stdout"
        }
      ]
    },
    {
      "cell_type": "markdown",
      "metadata": {
        "id": "vmYR9y8rUaXg"
      },
      "source": [
        "## Helper Functions"
      ]
    },
    {
      "cell_type": "markdown",
      "metadata": {
        "id": "w1OwKXXqUqX0"
      },
      "source": [
        "Function for reproductivity"
      ]
    },
    {
      "cell_type": "code",
      "metadata": {
        "id": "3Q9A-Cy5uCE0"
      },
      "source": [
        "# to make the result repeatable, set the seed\n",
        "def runRamdomSeed():\n",
        "    torch.manual_seed(0)\n",
        "    np.random.seed(0)\n",
        "    random.seed(0)\n",
        "    torch.backends.cudnn.benchmark = False \n",
        "\n",
        "runRamdomSeed()"
      ],
      "execution_count": 16,
      "outputs": []
    },
    {
      "cell_type": "markdown",
      "metadata": {
        "id": "mXFRFoZdFZUl"
      },
      "source": [
        "Functions for normal training process"
      ]
    },
    {
      "cell_type": "code",
      "metadata": {
        "id": "f94QSSO2fLkw"
      },
      "source": [
        "def training(model, train_iter, criterion, optimizer, device):\n",
        "  model.train() # change the mode to train\n",
        "  running_loss = 0.\n",
        "  correct, total = 0, 0\n",
        "  for idx, batch in enumerate(train_iter):\n",
        "    text = batch.Text[0]\n",
        "    label = batch.Label\n",
        "    text, label = text.to(device), label.to(device)\n",
        "    optimizer.zero_grad()\n",
        "    output = model(text)\n",
        "    loss = criterion(output, label)\n",
        "    loss.backward()\n",
        "    optimizer.step()\n",
        "    running_loss += loss.item()\n",
        "    _, predicted = torch.max(output.data, 1)\n",
        "    total += label.size(0) # the number of news in train_iter\n",
        "    correct += (predicted == label).sum().item()\n",
        "\n",
        "  train_loss = running_loss/len(train_iter)\n",
        "  train_acc = correct/total\n",
        "  return train_loss, train_acc\n",
        " \n",
        "def evaluating(model, valid_iter, criterion, optimizer, device):\n",
        "\n",
        "  model.eval() # change the model to evaluate\n",
        "  running_loss = 0.\n",
        "  correct, total = 0, 0 \n",
        "  with torch.no_grad():\n",
        "    for idx, batch in enumerate(valid_iter):\n",
        "      text = batch.Text[0]\n",
        "      label = batch.Label\n",
        "      text, target = text.to(device), label.to(device)\n",
        "      optimizer.zero_grad()\n",
        "      output = model(text)\n",
        "    \n",
        "      loss = criterion(output, label)\n",
        "      running_loss += loss.item()\n",
        "\n",
        "      # get accuracy \n",
        "      _, predicted = torch.max(output, 1)\n",
        "      total += target.size(0)\n",
        "      correct += (predicted == target).sum().item()\n",
        "\n",
        "  valid_loss = running_loss/len(valid_iter)\n",
        "  valid_acc = correct/total\n",
        "  return valid_loss, valid_acc\n",
        "\n",
        "def testing1(model, test_iter, device, learning_rate): \n",
        "  criterion = nn.CrossEntropyLoss()\n",
        "  optimizer = torch.optim.Adam(model.parameters(), lr=learning_rate)\n",
        "  loss, acc = evaluating(model, test_iter, criterion, optimizer, device)\n",
        "  return 100*acc\n",
        "\n",
        "def testing(name, test_iter, device, learning_rate):\n",
        "  model = load_model(name, device) # load the BestModel.pth\n",
        "  model = model.to(device)\n",
        "  criterion = nn.CrossEntropyLoss()\n",
        "  optimizer = torch.optim.Adam(model.parameters(), lr=learning_rate)\n",
        "  loss, acc = evaluating(model, test_iter, criterion, optimizer, device)\n",
        "  return 100*acc\n",
        "\n",
        "def load_model(name, device):\n",
        "  if name == 'RNNModel':\n",
        "    model = RNNModel(2, hidden_size, 100)\n",
        "  else:\n",
        "     raise ValueError(f\"model {name} is not the supported model\")\n",
        "  model.load_state_dict(torch.load(\"Bestmodel.pth\", map_location= device)) # load our best model for testing\n",
        "  return model"
      ],
      "execution_count": 17,
      "outputs": []
    },
    {
      "cell_type": "code",
      "metadata": {
        "id": "wTG7hVtbU6QM"
      },
      "source": [
        "def trainandeval(model, device, train_iter, valid_iter, epochs, learning_rate):\n",
        "  #define the loss function and optimizer\n",
        "  criterion = nn.CrossEntropyLoss()\n",
        "  optimizer = torch.optim.Adam(model.parameters(), lr=learning_rate)\n",
        "\n",
        "  train_loss, validation_loss = [], [] #store the train and valid loss for every epoch\n",
        "  train_acc, validation_acc = [], []  #store the train and valid accuracy for every epoch\n",
        "  best_valid_loss = float('inf')\n",
        "    \n",
        "  for epoch in range(epochs):\n",
        "\n",
        "    t_loss, t_acc = training(model, train_iter, criterion, optimizer, device) #trainging\n",
        "    v_loss, v_acc = evaluating(model, valid_iter, criterion, optimizer, device) #evaluating \n",
        "\n",
        "    if v_loss < best_valid_loss:\n",
        "      best_valid_loss = v_loss\n",
        "      torch.save(model.state_dict(), 'Bestmodel.pth') #store the best model\n",
        "\n",
        "    # add the result into array\n",
        "    train_loss.append(t_loss)\n",
        "    validation_loss.append(v_loss)\n",
        "    train_acc.append(t_acc)\n",
        "    validation_acc.append(v_acc)\n",
        "\n",
        "    print(\"Epoch:\", epoch+1, \"Training Loss: \", t_loss, \"Valid Loss: \", v_loss)\n",
        "    print(\"Epoch:\", epoch+1, \"Training Accuracy: \", t_acc, \"Valid Accuracy: \", v_acc)\n",
        "\n",
        "  return train_loss, train_acc, validation_loss, validation_acc\n"
      ],
      "execution_count": 18,
      "outputs": []
    },
    {
      "cell_type": "markdown",
      "metadata": {
        "id": "BDTp2sLtFUyH"
      },
      "source": [
        "Functions for printing out accuracy for different parameters in RNN model"
      ]
    },
    {
      "cell_type": "code",
      "metadata": {
        "id": "Zore49Na4_ky"
      },
      "source": [
        "#functions for printing out accuracy for different parameters\n",
        "def running(i, j, k):\n",
        "\n",
        "  TEXT, vocab_size, train_iter, test_iter = load_dataset()\n",
        "  runRamdomSeed()\n",
        "  rnn_model = RNNModel(2, j, 100)\n",
        "  rnn_model.to(device)\n",
        "  differntP(rnn_model, device, train_iter, test_iter, 10, i)\n",
        "  test_accuracy = testing1(rnn_model, test_iter, device, i)\n",
        "  print(f\"Parameters: learning rate = {i}, hidden_size = {j}, embeded length = 100, epcho = {epochs}, batch_size = {k}, fixed_length = 350\")\n",
        "  print('Test Accuracy: ',  test_accuracy, '%')\n",
        "\n",
        "\n",
        "def differntP(model, device, train_iter, valid_iter, epochs, learning_rate):\n",
        "  #define the loss function and optimizer\n",
        "  criterion = nn.CrossEntropyLoss()\n",
        "  optimizer = torch.optim.Adam(model.parameters(), lr=learning_rate)\n",
        "\n",
        "  train_loss, validation_loss = [], []\n",
        "  train_acc, validation_acc = [], []\n",
        "  best_valid_loss = float('inf')\n",
        "    \n",
        "  for epoch in range(epochs):\n",
        "\n",
        "    t_loss, t_acc = training(model, train_iter, criterion, optimizer, device)\n",
        "    v_loss, v_acc = evaluating(model, valid_iter, criterion, optimizer, device)  \n",
        "\n",
        "    if v_loss < best_valid_loss:\n",
        "      best_valid_loss = v_loss\n",
        "      torch.save(model.state_dict(), 'Bestmodel.pth') #store the best model\n"
      ],
      "execution_count": 41,
      "outputs": []
    },
    {
      "cell_type": "markdown",
      "metadata": {
        "id": "N4dUboynkxJ2"
      },
      "source": [
        "Functions for plotting the accuracy and loss"
      ]
    },
    {
      "cell_type": "code",
      "metadata": {
        "id": "xONVNKY1kU80"
      },
      "source": [
        "#plot loss\n",
        "def plot_loss(train_loss, validation_loss):\n",
        "  plt.plot(train_loss)\n",
        "  plt.plot(validation_loss)\n",
        "  plt.title('Model Loss')\n",
        "  plt.ylabel('Loss')\n",
        "  plt.xlabel('Epoch')\n",
        "  plt.legend(['Train', 'Validation'], loc='upper left')\n",
        "  plt.show()\n",
        "  \n",
        "#plot accuracy\n",
        "def plot_acc(train_acc, validation_acc):\n",
        "  plt.plot(train_acc)\n",
        "  plt.plot(validation_acc)\n",
        "  plt.title('Model accuracy')\n",
        "  plt.ylabel('Accuracy')\n",
        "  plt.xlabel('Epoch')\n",
        "  plt.legend(['Train', 'Validation'], loc='upper left')\n",
        "  plt.show()"
      ],
      "execution_count": 20,
      "outputs": []
    },
    {
      "cell_type": "markdown",
      "metadata": {
        "id": "vuSTAWvDsT0Z"
      },
      "source": [
        "##RNN"
      ]
    },
    {
      "cell_type": "markdown",
      "metadata": {
        "id": "lJbWaAw6F4LZ"
      },
      "source": [
        "Define the RNN model structure"
      ]
    },
    {
      "cell_type": "code",
      "metadata": {
        "id": "JskmkZQf1he1"
      },
      "source": [
        "class RNNModel(nn.Module):\n",
        "  def __init__(self, output_size, hidden_size, embed_size):\n",
        "    super(RNNModel, self).__init__()\n",
        "\n",
        "    self.hidden_size = hidden_size \n",
        "    # used the pretrained word-embedding vector from glove\n",
        "    self.word_embeddings = nn.Embedding.from_pretrained(TEXT.vocab.vectors, freeze=False)\n",
        "    self.rnn = nn.RNN(embed_size, hidden_size, num_layers=2)# 2RNN layer\n",
        "    self.fc = nn.Linear(2*hidden_size, output_size)\n",
        "\n",
        "  def forward(self, inputs):\n",
        "    input = self.word_embeddings(inputs) #torch.Size([batch_size, sequence_len, input_dim])\n",
        "    input = input.permute(1, 0, 2) #input 3D tensor should be [seq_len,batch_size,input_dim]\n",
        "    h_0 =  Variable(torch.zeros(2, input.size()[1], self.hidden_size).to(device)) \n",
        "    output, h_n = self.rnn(input, h_0)\n",
        "    h_n = h_n.permute(1, 0, 2)\n",
        "    h_n = h_n.contiguous().view(h_n.size()[0], h_n.size()[1]*h_n.size()[2])\n",
        "    out = self.fc(h_n)   \n",
        "    return out\n"
      ],
      "execution_count": 46,
      "outputs": []
    },
    {
      "cell_type": "markdown",
      "metadata": {
        "id": "0npF-hM3DPkA"
      },
      "source": [
        "Try out differnt parameters for RNN model"
      ]
    },
    {
      "cell_type": "code",
      "metadata": {
        "id": "hCXIX2OeD_ea"
      },
      "source": [
        "#some fixed parameters\n",
        "output_size = 2 #always should be 0, 1\n",
        "embedding_length = 100 # word vector size is 100\n",
        "epochs = 10 \n",
        "FIX_LEN = 350 # fixed the length of text at 350"
      ],
      "execution_count": 37,
      "outputs": []
    },
    {
      "cell_type": "code",
      "metadata": {
        "colab": {
          "base_uri": "https://localhost:8080/"
        },
        "id": "xgFExIJKi6th",
        "outputId": "1eb89968-ba43-4c95-9c7d-4c1302b6d8c1"
      },
      "source": [
        "# DO NOT RERUN THIS CELL (take 30 mins)\n",
        "# Accuracy for differnt Parameters\n",
        "learning_list = [0.01, 0.001]  # differnt learning rate\n",
        "hidden_list = [32, 64] # differnet hidden_size\n",
        "batch_list = [64, 128] # differnet batch size\n",
        "for i in learning_list:\n",
        "  for j in hidden_list:\n",
        "    for k in batch_list:\n",
        "      BATCH_SIZE = k\n",
        "      running(i,j, k) "
      ],
      "execution_count": 40,
      "outputs": [
        {
          "output_type": "stream",
          "text": [
            "Parameters: learning rate = 0.01, hidden_size = 32, embeded length = 100, epcho = 10, batch_size = 64, fixed_length = 350\n",
            "Test Accuracy:  82.8042328042328 %\n",
            "Parameters: learning rate = 0.01, hidden_size = 32, embeded length = 100, epcho = 10, batch_size = 128, fixed_length = 350\n",
            "Test Accuracy:  83.5978835978836 %\n",
            "Parameters: learning rate = 0.01, hidden_size = 64, embeded length = 100, epcho = 10, batch_size = 64, fixed_length = 350\n",
            "Test Accuracy:  81.21693121693121 %\n",
            "Parameters: learning rate = 0.01, hidden_size = 64, embeded length = 100, epcho = 10, batch_size = 128, fixed_length = 350\n",
            "Test Accuracy:  83.33333333333334 %\n",
            "Parameters: learning rate = 0.001, hidden_size = 32, embeded length = 100, epcho = 10, batch_size = 64, fixed_length = 350\n",
            "Test Accuracy:  83.5978835978836 %\n",
            "Parameters: learning rate = 0.001, hidden_size = 32, embeded length = 100, epcho = 10, batch_size = 128, fixed_length = 350\n",
            "Test Accuracy:  82.01058201058201 %\n",
            "Parameters: learning rate = 0.001, hidden_size = 64, embeded length = 100, epcho = 10, batch_size = 64, fixed_length = 350\n",
            "Test Accuracy:  82.8042328042328 %\n",
            "Parameters: learning rate = 0.001, hidden_size = 64, embeded length = 100, epcho = 10, batch_size = 128, fixed_length = 350\n",
            "Test Accuracy:  82.27513227513228 %\n"
          ],
          "name": "stdout"
        }
      ]
    },
    {
      "cell_type": "markdown",
      "metadata": {
        "id": "ycVUexf4jsmH"
      },
      "source": [
        "Let's look at the accuracy and loss for our best parameters set. By looking at the plot you can see that the validation loss start rasing at around epoch 6, which means that there is an overfitting after epoch 6. The accuracy with the final model (with overfitting) is lower than the accuracy of the best model (with the lowest loss, stored as Bestmodel.pth). **For the RNN model, our best model performance is 84.92%**"
      ]
    },
    {
      "cell_type": "code",
      "metadata": {
        "colab": {
          "base_uri": "https://localhost:8080/",
          "height": 964
        },
        "id": "u_gEEc06fBqh",
        "outputId": "89f6f47a-fee1-4860-a5f8-d5034cbd1181"
      },
      "source": [
        "#BEST MODEL FOR RNN\n",
        "#Trainging parameters\n",
        "learning_rate = 0.001\n",
        "hidden_size = 32\n",
        "BATCH_SIZE = 64\n",
        "FIX_LEN = 350\n",
        "\n",
        "# Initialize model, training and testing\n",
        "TEXT, vocab_size, train_iter, test_iter = load_dataset()\n",
        "runRamdomSeed() # for reproductivity\n",
        "rnn_model = RNNModel(output_size, hidden_size, embedding_length)\n",
        "rnn_model.to(device)\n",
        "train_loss, train_acc, validation_loss, validation_acc = trainandeval(rnn_model, device, train_iter, test_iter, epochs, learning_rate)\n",
        "plot_loss(train_loss, validation_loss)\n",
        "plot_acc(train_acc, validation_acc)\n",
        "rnn_test_acc = testing1(rnn_model, test_iter, device, learning_rate)\n",
        "rnn_test_acc1 = testing(\"RNNModel\", test_iter, device, learning_rate)\n",
        "print(f\"Parameters: learning rate = {learning_rate}, hidden_size = {hidden_size}, embeded length = {embedding_length}, epcho = {epochs}, batch_size = {BATCH_SIZE}, fixed_length = {FIX_LEN}\")\n",
        "print(\"The testing accuracy of the final model is\", rnn_test_acc, \"%\")\n",
        "print(\"The testing accuracy of the best model is\", rnn_test_acc1, \"%\")# the model with the lowest loss"
      ],
      "execution_count": 38,
      "outputs": [
        {
          "output_type": "stream",
          "text": [
            "Epoch: 1 Training Loss:  0.6965493996938069 Valid Loss:  0.6826128562291464\n",
            "Epoch: 1 Training Accuracy:  0.5152979066022544 Valid Accuracy:  0.5317460317460317\n",
            "Epoch: 2 Training Loss:  0.6749160408973693 Valid Loss:  0.6765662928422292\n",
            "Epoch: 2 Training Accuracy:  0.5823939881910897 Valid Accuracy:  0.5767195767195767\n",
            "Epoch: 3 Training Loss:  0.6450755973656972 Valid Loss:  0.640163908402125\n",
            "Epoch: 3 Training Accuracy:  0.6462694578636607 Valid Accuracy:  0.6296296296296297\n",
            "Epoch: 4 Training Loss:  0.5820681879917781 Valid Loss:  0.5980488856633505\n",
            "Epoch: 4 Training Accuracy:  0.7047772410091251 Valid Accuracy:  0.6904761904761905\n",
            "Epoch: 5 Training Loss:  0.4532290438810984 Valid Loss:  0.5307891219854355\n",
            "Epoch: 5 Training Accuracy:  0.799248523886205 Valid Accuracy:  0.746031746031746\n",
            "Epoch: 6 Training Loss:  0.30115359226862587 Valid Loss:  0.47637168566385907\n",
            "Epoch: 6 Training Accuracy:  0.8754696725711218 Valid Accuracy:  0.8253968253968254\n",
            "Epoch: 7 Training Loss:  0.1659197968741258 Valid Loss:  0.4560989836851756\n",
            "Epoch: 7 Training Accuracy:  0.9398819108964036 Valid Accuracy:  0.8492063492063492\n",
            "Epoch: 8 Training Loss:  0.10515264657636483 Valid Loss:  0.5215037216742834\n",
            "Epoch: 8 Training Accuracy:  0.9677938808373591 Valid Accuracy:  0.8253968253968254\n",
            "Epoch: 9 Training Loss:  0.07913129255175591 Valid Loss:  0.5186633765697479\n",
            "Epoch: 9 Training Accuracy:  0.9726247987117552 Valid Accuracy:  0.8386243386243386\n",
            "Epoch: 10 Training Loss:  0.04528287872672081 Valid Loss:  0.5423698276281357\n",
            "Epoch: 10 Training Accuracy:  0.984970477724101 Valid Accuracy:  0.8386243386243386\n"
          ],
          "name": "stdout"
        },
        {
          "output_type": "display_data",
          "data": {
            "image/png": "[encoded data removed]",
            "text/plain": [
              "<Figure size 432x288 with 1 Axes>"
            ]
          },
          "metadata": {
            "tags": [],
            "needs_background": "light"
          }
        },
        {
          "output_type": "display_data",
          "data": {
            "image/png": "[encoded data removed]",
            "text/plain": [
              "<Figure size 432x288 with 1 Axes>"
            ]
          },
          "metadata": {
            "tags": [],
            "needs_background": "light"
          }
        },
        {
          "output_type": "stream",
          "text": [
            "Parameters: learning rate = 0.001, hidden_size = 32, embeded length = 100, epcho = 10, batch_size = 64, fixed_length = 350\n",
            "The testing accuracy of the final model is 83.86243386243386 %\n",
            "The testing accuracy of the best model is 84.92063492063492 %\n"
          ],
          "name": "stdout"
        }
      ]
    },
    {
      "cell_type": "markdown",
      "metadata": {
        "id": "viacGG5rsRSH"
      },
      "source": [
        "## CNN"
      ]
    },
    {
      "cell_type": "markdown",
      "metadata": {
        "id": "xXzE6VdSrznc"
      },
      "source": [
        "define the CNN structure"
      ]
    },
    {
      "cell_type": "code",
      "metadata": {
        "id": "TPT3Jh9SkOMN"
      },
      "source": [
        "class CNNModel(nn.Module):\n",
        "    def __init__(self, vocab_size, embed_size, kernel_sizes, num_channels,\n",
        "                 **kwargs):\n",
        "        super(CNNModel, self).__init__(**kwargs)\n",
        "        self.embedding = nn.Embedding(vocab_size, embed_size)\n",
        "        self.fc = nn.Linear(sum(num_channels), 2)\n",
        "        self.pool = nn.AdaptiveMaxPool1d(1)\n",
        "        self.relu = nn.ReLU()\n",
        "        self.convs = nn.ModuleList()\n",
        "        for c, k in zip(num_channels, kernel_sizes):\n",
        "            self.convs.append(nn.Conv1d(embed_size, c, k))\n",
        "\n",
        "    def forward(self, inputs):\n",
        "        embeddings = self.embedding(inputs)\n",
        "        embeddings = embeddings.permute(0, 2, 1)\n",
        "        encoding = torch.cat([\n",
        "            torch.squeeze(self.relu(self.pool(conv(embeddings))), dim=-1)\n",
        "            for conv in self.convs], dim=1)\n",
        "        \n",
        "        outputs = self.fc(encoding)\n",
        "        return outputs"
      ],
      "execution_count": 43,
      "outputs": []
    },
    {
      "cell_type": "markdown",
      "metadata": {
        "id": "-Ta_euiVu-Wv"
      },
      "source": [
        "When trying out the small learning rate 0.00001, the accuracy becomes very low since it lowers the importance of latest batch"
      ]
    },
    {
      "cell_type": "code",
      "metadata": {
        "colab": {
          "base_uri": "https://localhost:8080/",
          "height": 930
        },
        "id": "-1IeLvEfkZ3H",
        "outputId": "c588d1a0-6439-4c49-e610-3477fa4d886e"
      },
      "source": [
        "# learning rate too small -> low accuracy since it lowers the importance of the latest batch\n",
        "# Model hyperparameters\n",
        "embedding_length = 100\n",
        "kernel_sizes = [3, 4, 5]\n",
        "nums_channels = [100, 200, 500]\n",
        "\n",
        "learning_rate = 0.00001\n",
        "epochs = 10\n",
        "\n",
        "# Initialize model, training and testing\n",
        "runRamdomSeed()\n",
        "cnn_model = CNNModel(vocab_size, embedding_length, kernel_sizes, nums_channels)\n",
        "cnn_model.to(device)\n",
        "cnn_train_loss, cnn_train_acc, cnn_validation_loss, cnn_validation_acc = trainandeval(cnn_model, device, train_iter, test_iter, epochs, learning_rate)\n",
        "plot_loss(cnn_train_loss, cnn_validation_loss)\n",
        "plot_acc(cnn_train_acc, cnn_validation_acc)\n",
        "cnn_test_acc = testing1(cnn_model, test_iter, device, learning_rate)\n",
        "print (\"The testing accuracy of the final model is\", cnn_test_acc, \"%\")"
      ],
      "execution_count": 45,
      "outputs": [
        {
          "output_type": "stream",
          "text": [
            "Epoch: 1 Training Loss:  0.6939667801062266 Valid Loss:  0.686076283454895\n",
            "Epoch: 1 Training Accuracy:  0.5265700483091788 Valid Accuracy:  0.5423280423280423\n",
            "Epoch: 2 Training Loss:  0.6866770287354788 Valid Loss:  0.6808383166790009\n",
            "Epoch: 2 Training Accuracy:  0.5491143317230274 Valid Accuracy:  0.5793650793650794\n",
            "Epoch: 3 Training Loss:  0.6802485962708791 Valid Loss:  0.6781709392865499\n",
            "Epoch: 3 Training Accuracy:  0.5695115405260333 Valid Accuracy:  0.5740740740740741\n",
            "Epoch: 4 Training Loss:  0.6740667978922527 Valid Loss:  0.6763609945774078\n",
            "Epoch: 4 Training Accuracy:  0.5866881374127751 Valid Accuracy:  0.5793650793650794\n",
            "Epoch: 5 Training Loss:  0.6701720595359802 Valid Loss:  0.6715814471244812\n",
            "Epoch: 5 Training Accuracy:  0.6038647342995169 Valid Accuracy:  0.6137566137566137\n",
            "Epoch: 6 Training Loss:  0.6664646824200948 Valid Loss:  0.6691708862781525\n",
            "Epoch: 6 Training Accuracy:  0.6215780998389694 Valid Accuracy:  0.6111111111111112\n",
            "Epoch: 7 Training Loss:  0.6642535348733266 Valid Loss:  0.665743350982666\n",
            "Epoch: 7 Training Accuracy:  0.6301663982823403 Valid Accuracy:  0.6402116402116402\n",
            "Epoch: 8 Training Loss:  0.6566732048988342 Valid Loss:  0.6650361716747284\n",
            "Epoch: 8 Training Accuracy:  0.6333870101986044 Valid Accuracy:  0.6111111111111112\n",
            "Epoch: 9 Training Loss:  0.6537984251976013 Valid Loss:  0.6594607134660085\n",
            "Epoch: 9 Training Accuracy:  0.6553945249597424 Valid Accuracy:  0.6693121693121693\n",
            "Epoch: 10 Training Loss:  0.6501114269097646 Valid Loss:  0.6592565774917603\n",
            "Epoch: 10 Training Accuracy:  0.6940418679549114 Valid Accuracy:  0.6322751322751323\n"
          ],
          "name": "stdout"
        },
        {
          "output_type": "display_data",
          "data": {
            "image/png": "[encoded data removed]",
            "text/plain": [
              "<Figure size 432x288 with 1 Axes>"
            ]
          },
          "metadata": {
            "tags": [],
            "needs_background": "light"
          }
        },
        {
          "output_type": "display_data",
          "data": {
            "image/png": "[encoded data removed]",
            "text/plain": [
              "<Figure size 432x288 with 1 Axes>"
            ]
          },
          "metadata": {
            "tags": [],
            "needs_background": "light"
          }
        },
        {
          "output_type": "stream",
          "text": [
            "The testing accuracy of the final model is 63.227513227513235 %\n"
          ],
          "name": "stdout"
        }
      ]
    },
    {
      "cell_type": "markdown",
      "metadata": {
        "id": "Uiww4lBHwQOD"
      },
      "source": [
        "**For the CNN model, our best model performance is 85.71%**"
      ]
    },
    {
      "cell_type": "code",
      "metadata": {
        "colab": {
          "base_uri": "https://localhost:8080/",
          "height": 930
        },
        "id": "YuCDJ7IckRWm",
        "outputId": "0c9b6f85-e93a-4c37-f3a5-2deb724a1ee1"
      },
      "source": [
        "# the perfect one\n",
        "# Model hyperparameters\n",
        "embedding_length = 100\n",
        "kernel_sizes = [3, 4, 5]\n",
        "nums_channels = [100, 200, 500]\n",
        "\n",
        "learning_rate = 0.001\n",
        "epochs = 10\n",
        "\n",
        "# Initialize model, training and testing\n",
        "runRamdomSeed()\n",
        "cnn_model = CNNModel(vocab_size, embedding_length, kernel_sizes, nums_channels)\n",
        "cnn_model.to(device)\n",
        "cnn_train_loss, cnn_train_acc, cnn_validation_loss, cnn_validation_acc = trainandeval(cnn_model, device, train_iter, test_iter, epochs, learning_rate)\n",
        "plot_loss(cnn_train_loss, cnn_validation_loss)\n",
        "plot_acc(cnn_train_acc, cnn_validation_acc)\n",
        "cnn_test_acc = testing1(cnn_model, test_iter, device, learning_rate)\n",
        "print (\"The testing accuracy of the final model is\", cnn_test_acc, \"%\")"
      ],
      "execution_count": 44,
      "outputs": [
        {
          "output_type": "stream",
          "text": [
            "Epoch: 1 Training Loss:  0.8548034429550171 Valid Loss:  0.6453243990739187\n",
            "Epoch: 1 Training Accuracy:  0.511003757380569 Valid Accuracy:  0.5555555555555556\n",
            "Epoch: 2 Training Loss:  0.48617700636386874 Valid Loss:  0.45558132231235504\n",
            "Epoch: 2 Training Accuracy:  0.7922705314009661 Valid Accuracy:  0.8492063492063492\n",
            "Epoch: 3 Training Loss:  0.34349643588066103 Valid Loss:  0.3945844868818919\n",
            "Epoch: 3 Training Accuracy:  0.9522275899087493 Valid Accuracy:  0.8518518518518519\n",
            "Epoch: 4 Training Loss:  0.23217569241921107 Valid Loss:  0.32985779146353406\n",
            "Epoch: 4 Training Accuracy:  0.9951690821256038 Valid Accuracy:  0.8386243386243386\n",
            "Epoch: 5 Training Loss:  0.14915620361765225 Valid Loss:  0.2971827983856201\n",
            "Epoch: 5 Training Accuracy:  1.0 Valid Accuracy:  0.8465608465608465\n",
            "Epoch: 6 Training Loss:  0.09958492467800777 Valid Loss:  0.27754272520542145\n",
            "Epoch: 6 Training Accuracy:  1.0 Valid Accuracy:  0.8571428571428571\n",
            "Epoch: 7 Training Loss:  0.06781661982337633 Valid Loss:  0.2595148558417956\n",
            "Epoch: 7 Training Accuracy:  1.0 Valid Accuracy:  0.843915343915344\n",
            "Epoch: 8 Training Loss:  0.04815012700855732 Valid Loss:  0.2506700207789739\n",
            "Epoch: 8 Training Accuracy:  1.0 Valid Accuracy:  0.8518518518518519\n",
            "Epoch: 9 Training Loss:  0.03638246059417725 Valid Loss:  0.24614053716262183\n",
            "Epoch: 9 Training Accuracy:  1.0 Valid Accuracy:  0.843915343915344\n",
            "Epoch: 10 Training Loss:  0.028023877739906312 Valid Loss:  0.24383807679017386\n",
            "Epoch: 10 Training Accuracy:  1.0 Valid Accuracy:  0.8571428571428571\n"
          ],
          "name": "stdout"
        },
        {
          "output_type": "display_data",
          "data": {
            "image/png": "[encoded data removed]",
            "text/plain": [
              "<Figure size 432x288 with 1 Axes>"
            ]
          },
          "metadata": {
            "tags": [],
            "needs_background": "light"
          }
        },
        {
          "output_type": "display_data",
          "data": {
            "image/png": "[encoded data removed]",
            "text/plain": [
              "<Figure size 432x288 with 1 Axes>"
            ]
          },
          "metadata": {
            "tags": [],
            "needs_background": "light"
          }
        },
        {
          "output_type": "stream",
          "text": [
            "The testing accuracy of the final model is 85.71428571428571 %\n"
          ],
          "name": "stdout"
        }
      ]
    },
    {
      "cell_type": "markdown",
      "metadata": {
        "id": "b8ySKbTun8Pp"
      },
      "source": [
        "# Model Performance\n",
        "\n",
        "In our project, we have tried out differnt models, and their accuracy are as follows:\n",
        "\n",
        "Part one : Machine Learning\n",
        "\n",
        "1.   TF-IDF Vectorizer + Randomforest Classifier (TFIDF+RF) : 0.8571\n",
        "2.   Countvectorizer + Randomforest Classifier (CV+RF) : 0.8492\n",
        "3.   TF-IDF Vectorizer + Naived Based Classifier (TFIDF+NB): 0.8518\n",
        "4.   Countvectorizer + Naived Based Classifier (CV+NB): 0.8412\n",
        "\n",
        "Part two: Neural Network\n",
        "\n",
        "\n",
        "1.   RNN: 0.8492\n",
        "2.   CNN: 0.8571\n",
        "\n",
        "\n",
        "Performance from high to low : TFIDF+RF = 1DCNN > TFIDF+NB > RNN= CV+RF > CV+NB\n",
        "\n",
        "**The higest accuracy is 85.71%**\n",
        "\n",
        "\n",
        "\n",
        "\n",
        "\n",
        "\n"
      ]
    }
  ]
}